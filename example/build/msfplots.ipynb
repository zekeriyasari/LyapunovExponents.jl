{
 "cells": [
  {
   "cell_type": "markdown",
   "source": [
    "# Master Stability Function (MSF)"
   ],
   "metadata": {}
  },
  {
   "cell_type": "markdown",
   "source": [
    "### Network\n",
    "Consider the network given as\n",
    "$$\n",
    "\\dot{x}_i = f(x_i) - \\epsilon \\sum_{j = 1}^n \\xi_{ij} P x_j \\quad i = 1, 2, \\ldots, n\n",
    "$$\n",
    "where\n",
    "* $ x_i \\in \\mathbb{R}^d $\n",
    "* $ f : \\mathbb{R}^d \\mapsto \\mathbb{R}^d $\n",
    "* $ Ξ = [\\xi_{ij}] $\n",
    "* $ 0 = \\lambda_1 < \\lambda_2 \\leq \\lambda_3 \\leq \\ldots \\leq \\lambda_n $ are the eigenvalues of $\\Xi$."
   ],
   "metadata": {}
  },
  {
   "cell_type": "markdown",
   "source": [
    "### Full Synchronization\n",
    "The system achieves full synchronzation if\n",
    "$$\n",
    "\\lim_{t \\mapsto \\infty} |x_i(t) - x_j(t)| \\quad \\forall i\n",
    "$$"
   ],
   "metadata": {}
  },
  {
   "cell_type": "markdown",
   "source": [
    "### Master Stability Function\n",
    "The full synchronization of the network given above can be associated with\n",
    "$$\n",
    "\\dot{\\zeta} = (Df(s) - \\epsilon \\lambda_k P) \\zeta \\quad k = 1, 2, \\ldots, n\n",
    "$$\n",
    "where $s$ is the special solution of the node dynamics $\\dot{s} = f(s)$, $Df(s)$ is the jacobian of $f$ calculated at\n",
    "$s$. For the system to achieve full synchronization, maximum lyapunov exponents calculated usign the auxilary system\n",
    "must be negative. Let $\\eta = \\epsilon \\lambda$. Then, the master stability fucntion $\\Lambda = \\Psi(\\eta)$ where $\\Lambda$ is the maximum lyapunnov\n",
    "expoent corresponding to $\\eta$. In the following, we plot MSF."
   ],
   "metadata": {}
  },
  {
   "cell_type": "markdown",
   "source": [
    "Load packages"
   ],
   "metadata": {}
  },
  {
   "outputs": [],
   "cell_type": "code",
   "source": [
    "using LyapunovExponents\n",
    "using Plots"
   ],
   "metadata": {},
   "execution_count": 1
  },
  {
   "cell_type": "markdown",
   "source": [
    " Parameters"
   ],
   "metadata": {}
  },
  {
   "outputs": [
    {
     "output_type": "execute_result",
     "data": {
      "text/plain": "3×3 Matrix{Int64}:\n 0  0  0\n 0  0  0\n 0  0  1"
     },
     "metadata": {},
     "execution_count": 2
    }
   ],
   "cell_type": "code",
   "source": [
    "ds = Lorenz()\n",
    "P = [\n",
    "    0 0 0;\n",
    "    0 0 0;\n",
    "    0 0 1\n",
    "]"
   ],
   "metadata": {},
   "execution_count": 2
  },
  {
   "cell_type": "markdown",
   "source": [
    "MSF calculation parameters"
   ],
   "metadata": {}
  },
  {
   "outputs": [
    {
     "output_type": "execute_result",
     "data": {
      "text/plain": "0.001"
     },
     "metadata": {},
     "execution_count": 3
    }
   ],
   "cell_type": "code",
   "source": [
    "nsteps = Int(3e4)       # Number of steps\n",
    "ntrsteps = Int(1e4)     # Number of transient steps\n",
    "dt = 0.001              # Step size of the integration"
   ],
   "metadata": {},
   "execution_count": 3
  },
  {
   "cell_type": "markdown",
   "source": [
    "Define $Ψ$"
   ],
   "metadata": {}
  },
  {
   "outputs": [
    {
     "output_type": "execute_result",
     "data": {
      "text/plain": "Ψ (generic function with 1 method)"
     },
     "metadata": {},
     "execution_count": 4
    }
   ],
   "cell_type": "code",
   "source": [
    "Ψ(η) = msf(ds, η, P, nsteps=nsteps, ntrsteps=ntrsteps, dt=dt)"
   ],
   "metadata": {},
   "execution_count": 4
  },
  {
   "cell_type": "markdown",
   "source": [
    "Calculate MSF values"
   ],
   "metadata": {}
  },
  {
   "outputs": [
    {
     "output_type": "execute_result",
     "data": {
      "text/plain": "51-element Vector{Float64}:\n  0.7758182535846315\n -0.3264367959177847\n -0.40100653536849545\n -0.07621568534470137\n  0.18424751143714493\n  0.6022859943693565\n  0.8300819623783399\n  0.9576818922790202\n  1.030728020481013\n  1.0729291364836442\n  ⋮\n -0.19933980531134435\n -0.11813561906647047\n -0.10369911317533402\n -0.10869837752565248\n -0.1276760873959514\n -0.1629037933712632\n -0.22809270974266604\n -0.3074904035265573\n -0.3679525321051871"
     },
     "metadata": {},
     "execution_count": 5
    }
   ],
   "cell_type": "code",
   "source": [
    "η = range(0, 100, length=51)\n",
    "Λ = Ψ.(η)"
   ],
   "metadata": {},
   "execution_count": 5
  },
  {
   "cell_type": "markdown",
   "source": [
    "Plots"
   ],
   "metadata": {}
  },
  {
   "outputs": [
    {
     "output_type": "execute_result",
     "data": {
      "text/plain": "Plot{Plots.GRBackend() n=2}",
      "image/png": "[encoded data removed]",
      "text/html": [
       "<?xml version=\"1.0\" encoding=\"utf-8\"?>\n",
       "<svg xmlns=\"http://www.w3.org/2000/svg\" xmlns:xlink=\"http://www.w3.org/1999/xlink\" width=\"600\" height=\"400\" viewBox=\"0 0 2400 1600\">\n",
       "<defs>\n",
       "  <clipPath id=\"clip150\">\n",
       "    <rect x=\"0\" y=\"0\" width=\"2400\" height=\"1600\"/>\n",
       "  </clipPath>\n",
       "</defs>\n",
       "<path clip-path=\"url(#clip150)\" d=\"\n",
       "M0 1600 L2400 1600 L2400 0 L0 0  Z\n",
       "  \" fill=\"#ffffff\" fill-rule=\"evenodd\" fill-opacity=\"1\"/>\n",
       "<defs>\n",
       "  <clipPath id=\"clip151\">\n",
       "    <rect x=\"480\" y=\"0\" width=\"1681\" height=\"1600\"/>\n",
       "  </clipPath>\n",
       "</defs>\n",
       "<path clip-path=\"url(#clip150)\" d=\"\n",
       "M193.288 1486.45 L2352.76 1486.45 L2352.76 47.2441 L193.288 47.2441  Z\n",
       "  \" fill=\"#ffffff\" fill-rule=\"evenodd\" fill-opacity=\"1\"/>\n",
       "<defs>\n",
       "  <clipPath id=\"clip152\">\n",
       "    <rect x=\"193\" y=\"47\" width=\"2160\" height=\"1440\"/>\n",
       "  </clipPath>\n",
       "</defs>\n",
       "<polyline clip-path=\"url(#clip152)\" style=\"stroke:#000000; stroke-linecap:butt; stroke-linejoin:round; stroke-width:2; stroke-opacity:0.1; fill:none\" points=\"\n",
       "  254.405,1486.45 254.405,47.2441 \n",
       "  \"/>\n",
       "<polyline clip-path=\"url(#clip152)\" style=\"stroke:#000000; stroke-linecap:butt; stroke-linejoin:round; stroke-width:2; stroke-opacity:0.1; fill:none\" points=\"\n",
       "  763.713,1486.45 763.713,47.2441 \n",
       "  \"/>\n",
       "<polyline clip-path=\"url(#clip152)\" style=\"stroke:#000000; stroke-linecap:butt; stroke-linejoin:round; stroke-width:2; stroke-opacity:0.1; fill:none\" points=\"\n",
       "  1273.02,1486.45 1273.02,47.2441 \n",
       "  \"/>\n",
       "<polyline clip-path=\"url(#clip152)\" style=\"stroke:#000000; stroke-linecap:butt; stroke-linejoin:round; stroke-width:2; stroke-opacity:0.1; fill:none\" points=\"\n",
       "  1782.33,1486.45 1782.33,47.2441 \n",
       "  \"/>\n",
       "<polyline clip-path=\"url(#clip152)\" style=\"stroke:#000000; stroke-linecap:butt; stroke-linejoin:round; stroke-width:2; stroke-opacity:0.1; fill:none\" points=\"\n",
       "  2291.64,1486.45 2291.64,47.2441 \n",
       "  \"/>\n",
       "<polyline clip-path=\"url(#clip150)\" style=\"stroke:#000000; stroke-linecap:butt; stroke-linejoin:round; stroke-width:4; stroke-opacity:1; fill:none\" points=\"\n",
       "  193.288,1486.45 2352.76,1486.45 \n",
       "  \"/>\n",
       "<polyline clip-path=\"url(#clip150)\" style=\"stroke:#000000; stroke-linecap:butt; stroke-linejoin:round; stroke-width:4; stroke-opacity:1; fill:none\" points=\"\n",
       "  254.405,1486.45 254.405,1469.18 \n",
       "  \"/>\n",
       "<polyline clip-path=\"url(#clip150)\" style=\"stroke:#000000; stroke-linecap:butt; stroke-linejoin:round; stroke-width:4; stroke-opacity:1; fill:none\" points=\"\n",
       "  763.713,1486.45 763.713,1469.18 \n",
       "  \"/>\n",
       "<polyline clip-path=\"url(#clip150)\" style=\"stroke:#000000; stroke-linecap:butt; stroke-linejoin:round; stroke-width:4; stroke-opacity:1; fill:none\" points=\"\n",
       "  1273.02,1486.45 1273.02,1469.18 \n",
       "  \"/>\n",
       "<polyline clip-path=\"url(#clip150)\" style=\"stroke:#000000; stroke-linecap:butt; stroke-linejoin:round; stroke-width:4; stroke-opacity:1; fill:none\" points=\"\n",
       "  1782.33,1486.45 1782.33,1469.18 \n",
       "  \"/>\n",
       "<polyline clip-path=\"url(#clip150)\" style=\"stroke:#000000; stroke-linecap:butt; stroke-linejoin:round; stroke-width:4; stroke-opacity:1; fill:none\" points=\"\n",
       "  2291.64,1486.45 2291.64,1469.18 \n",
       "  \"/>\n",
       "<path clip-path=\"url(#clip150)\" d=\"M254.405 1515.64 Q250.794 1515.64 248.965 1519.2 Q247.16 1522.75 247.16 1529.87 Q247.16 1536.98 248.965 1540.55 Q250.794 1544.09 254.405 1544.09 Q258.039 1544.09 259.845 1540.55 Q261.673 1536.98 261.673 1529.87 Q261.673 1522.75 259.845 1519.2 Q258.039 1515.64 254.405 1515.64 M254.405 1511.93 Q260.215 1511.93 263.271 1516.54 Q266.349 1521.12 266.349 1529.87 Q266.349 1538.6 263.271 1543.21 Q260.215 1547.79 254.405 1547.79 Q248.595 1547.79 245.516 1543.21 Q242.46 1538.6 242.46 1529.87 Q242.46 1521.12 245.516 1516.54 Q248.595 1511.93 254.405 1511.93 Z\" fill=\"#000000\" fill-rule=\"evenodd\" fill-opacity=\"1\" /><path clip-path=\"url(#clip150)\" d=\"M742.984 1543.18 L759.304 1543.18 L759.304 1547.12 L737.359 1547.12 L737.359 1543.18 Q740.021 1540.43 744.605 1535.8 Q749.211 1531.15 750.392 1529.81 Q752.637 1527.28 753.517 1525.55 Q754.419 1523.79 754.419 1522.1 Q754.419 1519.34 752.475 1517.61 Q750.554 1515.87 747.452 1515.87 Q745.253 1515.87 742.799 1516.63 Q740.369 1517.4 737.591 1518.95 L737.591 1514.23 Q740.415 1513.09 742.869 1512.51 Q745.322 1511.93 747.359 1511.93 Q752.73 1511.93 755.924 1514.62 Q759.118 1517.31 759.118 1521.8 Q759.118 1523.93 758.308 1525.85 Q757.521 1527.74 755.415 1530.34 Q754.836 1531.01 751.734 1534.23 Q748.632 1537.42 742.984 1543.18 Z\" fill=\"#000000\" fill-rule=\"evenodd\" fill-opacity=\"1\" /><path clip-path=\"url(#clip150)\" d=\"M769.165 1512.56 L787.521 1512.56 L787.521 1516.5 L773.447 1516.5 L773.447 1524.97 Q774.466 1524.62 775.484 1524.46 Q776.503 1524.27 777.521 1524.27 Q783.308 1524.27 786.688 1527.44 Q790.067 1530.62 790.067 1536.03 Q790.067 1541.61 786.595 1544.71 Q783.123 1547.79 776.804 1547.79 Q774.628 1547.79 772.359 1547.42 Q770.114 1547.05 767.706 1546.31 L767.706 1541.61 Q769.79 1542.74 772.012 1543.3 Q774.234 1543.86 776.711 1543.86 Q780.716 1543.86 783.054 1541.75 Q785.392 1539.64 785.392 1536.03 Q785.392 1532.42 783.054 1530.31 Q780.716 1528.21 776.711 1528.21 Q774.836 1528.21 772.961 1528.62 Q771.109 1529.04 769.165 1529.92 L769.165 1512.56 Z\" fill=\"#000000\" fill-rule=\"evenodd\" fill-opacity=\"1\" /><path clip-path=\"url(#clip150)\" d=\"M1247.72 1512.56 L1266.08 1512.56 L1266.08 1516.5 L1252 1516.5 L1252 1524.97 Q1253.02 1524.62 1254.04 1524.46 Q1255.06 1524.27 1256.08 1524.27 Q1261.86 1524.27 1265.24 1527.44 Q1268.62 1530.62 1268.62 1536.03 Q1268.62 1541.61 1265.15 1544.71 Q1261.68 1547.79 1255.36 1547.79 Q1253.18 1547.79 1250.92 1547.42 Q1248.67 1547.05 1246.26 1546.31 L1246.26 1541.61 Q1248.35 1542.74 1250.57 1543.3 Q1252.79 1543.86 1255.27 1543.86 Q1259.27 1543.86 1261.61 1541.75 Q1263.95 1539.64 1263.95 1536.03 Q1263.95 1532.42 1261.61 1530.31 Q1259.27 1528.21 1255.27 1528.21 Q1253.39 1528.21 1251.52 1528.62 Q1249.67 1529.04 1247.72 1529.92 L1247.72 1512.56 Z\" fill=\"#000000\" fill-rule=\"evenodd\" fill-opacity=\"1\" /><path clip-path=\"url(#clip150)\" d=\"M1287.84 1515.64 Q1284.23 1515.64 1282.4 1519.2 Q1280.59 1522.75 1280.59 1529.87 Q1280.59 1536.98 1282.4 1540.55 Q1284.23 1544.09 1287.84 1544.09 Q1291.47 1544.09 1293.28 1540.55 Q1295.11 1536.98 1295.11 1529.87 Q1295.11 1522.75 1293.28 1519.2 Q1291.47 1515.64 1287.84 1515.64 M1287.84 1511.93 Q1293.65 1511.93 1296.7 1516.54 Q1299.78 1521.12 1299.78 1529.87 Q1299.78 1538.6 1296.7 1543.21 Q1293.65 1547.79 1287.84 1547.79 Q1282.03 1547.79 1278.95 1543.21 Q1275.89 1538.6 1275.89 1529.87 Q1275.89 1521.12 1278.95 1516.54 Q1282.03 1511.93 1287.84 1511.93 Z\" fill=\"#000000\" fill-rule=\"evenodd\" fill-opacity=\"1\" /><path clip-path=\"url(#clip150)\" d=\"M1756.18 1512.56 L1778.41 1512.56 L1778.41 1514.55 L1765.86 1547.12 L1760.98 1547.12 L1772.78 1516.5 L1756.18 1516.5 L1756.18 1512.56 Z\" fill=\"#000000\" fill-rule=\"evenodd\" fill-opacity=\"1\" /><path clip-path=\"url(#clip150)\" d=\"M1787.57 1512.56 L1805.93 1512.56 L1805.93 1516.5 L1791.86 1516.5 L1791.86 1524.97 Q1792.87 1524.62 1793.89 1524.46 Q1794.91 1524.27 1795.93 1524.27 Q1801.72 1524.27 1805.1 1527.44 Q1808.48 1530.62 1808.48 1536.03 Q1808.48 1541.61 1805 1544.71 Q1801.53 1547.79 1795.21 1547.79 Q1793.04 1547.79 1790.77 1547.42 Q1788.52 1547.05 1786.12 1546.31 L1786.12 1541.61 Q1788.2 1542.74 1790.42 1543.3 Q1792.64 1543.86 1795.12 1543.86 Q1799.12 1543.86 1801.46 1541.75 Q1803.8 1539.64 1803.8 1536.03 Q1803.8 1532.42 1801.46 1530.31 Q1799.12 1528.21 1795.12 1528.21 Q1793.24 1528.21 1791.37 1528.62 Q1789.52 1529.04 1787.57 1529.92 L1787.57 1512.56 Z\" fill=\"#000000\" fill-rule=\"evenodd\" fill-opacity=\"1\" /><path clip-path=\"url(#clip150)\" d=\"M2251.25 1543.18 L2258.88 1543.18 L2258.88 1516.82 L2250.57 1518.49 L2250.57 1514.23 L2258.84 1512.56 L2263.51 1512.56 L2263.51 1543.18 L2271.15 1543.18 L2271.15 1547.12 L2251.25 1547.12 L2251.25 1543.18 Z\" fill=\"#000000\" fill-rule=\"evenodd\" fill-opacity=\"1\" /><path clip-path=\"url(#clip150)\" d=\"M2290.6 1515.64 Q2286.99 1515.64 2285.16 1519.2 Q2283.35 1522.75 2283.35 1529.87 Q2283.35 1536.98 2285.16 1540.55 Q2286.99 1544.09 2290.6 1544.09 Q2294.23 1544.09 2296.04 1540.55 Q2297.87 1536.98 2297.87 1529.87 Q2297.87 1522.75 2296.04 1519.2 Q2294.23 1515.64 2290.6 1515.64 M2290.6 1511.93 Q2296.41 1511.93 2299.46 1516.54 Q2302.54 1521.12 2302.54 1529.87 Q2302.54 1538.6 2299.46 1543.21 Q2296.41 1547.79 2290.6 1547.79 Q2284.79 1547.79 2281.71 1543.21 Q2278.65 1538.6 2278.65 1529.87 Q2278.65 1521.12 2281.71 1516.54 Q2284.79 1511.93 2290.6 1511.93 Z\" fill=\"#000000\" fill-rule=\"evenodd\" fill-opacity=\"1\" /><path clip-path=\"url(#clip150)\" d=\"M2320.76 1515.64 Q2317.15 1515.64 2315.32 1519.2 Q2313.51 1522.75 2313.51 1529.87 Q2313.51 1536.98 2315.32 1540.55 Q2317.15 1544.09 2320.76 1544.09 Q2324.39 1544.09 2326.2 1540.55 Q2328.03 1536.98 2328.03 1529.87 Q2328.03 1522.75 2326.2 1519.2 Q2324.39 1515.64 2320.76 1515.64 M2320.76 1511.93 Q2326.57 1511.93 2329.62 1516.54 Q2332.7 1521.12 2332.7 1529.87 Q2332.7 1538.6 2329.62 1543.21 Q2326.57 1547.79 2320.76 1547.79 Q2314.95 1547.79 2311.87 1543.21 Q2308.81 1538.6 2308.81 1529.87 Q2308.81 1521.12 2311.87 1516.54 Q2314.95 1511.93 2320.76 1511.93 Z\" fill=\"#000000\" fill-rule=\"evenodd\" fill-opacity=\"1\" /><polyline clip-path=\"url(#clip152)\" style=\"stroke:#000000; stroke-linecap:butt; stroke-linejoin:round; stroke-width:2; stroke-opacity:0.1; fill:none\" points=\"\n",
       "  193.288,1353.2 2352.76,1353.2 \n",
       "  \"/>\n",
       "<polyline clip-path=\"url(#clip152)\" style=\"stroke:#000000; stroke-linecap:butt; stroke-linejoin:round; stroke-width:2; stroke-opacity:0.1; fill:none\" points=\"\n",
       "  193.288,1082.86 2352.76,1082.86 \n",
       "  \"/>\n",
       "<polyline clip-path=\"url(#clip152)\" style=\"stroke:#000000; stroke-linecap:butt; stroke-linejoin:round; stroke-width:2; stroke-opacity:0.1; fill:none\" points=\"\n",
       "  193.288,812.517 2352.76,812.517 \n",
       "  \"/>\n",
       "<polyline clip-path=\"url(#clip152)\" style=\"stroke:#000000; stroke-linecap:butt; stroke-linejoin:round; stroke-width:2; stroke-opacity:0.1; fill:none\" points=\"\n",
       "  193.288,542.174 2352.76,542.174 \n",
       "  \"/>\n",
       "<polyline clip-path=\"url(#clip152)\" style=\"stroke:#000000; stroke-linecap:butt; stroke-linejoin:round; stroke-width:2; stroke-opacity:0.1; fill:none\" points=\"\n",
       "  193.288,271.83 2352.76,271.83 \n",
       "  \"/>\n",
       "<polyline clip-path=\"url(#clip150)\" style=\"stroke:#000000; stroke-linecap:butt; stroke-linejoin:round; stroke-width:4; stroke-opacity:1; fill:none\" points=\"\n",
       "  193.288,1486.45 193.288,47.2441 \n",
       "  \"/>\n",
       "<polyline clip-path=\"url(#clip150)\" style=\"stroke:#000000; stroke-linecap:butt; stroke-linejoin:round; stroke-width:4; stroke-opacity:1; fill:none\" points=\"\n",
       "  193.288,1353.2 219.201,1353.2 \n",
       "  \"/>\n",
       "<polyline clip-path=\"url(#clip150)\" style=\"stroke:#000000; stroke-linecap:butt; stroke-linejoin:round; stroke-width:4; stroke-opacity:1; fill:none\" points=\"\n",
       "  193.288,1082.86 219.201,1082.86 \n",
       "  \"/>\n",
       "<polyline clip-path=\"url(#clip150)\" style=\"stroke:#000000; stroke-linecap:butt; stroke-linejoin:round; stroke-width:4; stroke-opacity:1; fill:none\" points=\"\n",
       "  193.288,812.517 219.201,812.517 \n",
       "  \"/>\n",
       "<polyline clip-path=\"url(#clip150)\" style=\"stroke:#000000; stroke-linecap:butt; stroke-linejoin:round; stroke-width:4; stroke-opacity:1; fill:none\" points=\"\n",
       "  193.288,542.174 219.201,542.174 \n",
       "  \"/>\n",
       "<polyline clip-path=\"url(#clip150)\" style=\"stroke:#000000; stroke-linecap:butt; stroke-linejoin:round; stroke-width:4; stroke-opacity:1; fill:none\" points=\"\n",
       "  193.288,271.83 219.201,271.83 \n",
       "  \"/>\n",
       "<path clip-path=\"url(#clip150)\" d=\"M50.9921 1353.66 L80.6679 1353.66 L80.6679 1357.59 L50.9921 1357.59 L50.9921 1353.66 Z\" fill=\"#000000\" fill-rule=\"evenodd\" fill-opacity=\"1\" /><path clip-path=\"url(#clip150)\" d=\"M100.76 1339 Q97.1493 1339 95.3206 1342.57 Q93.515 1346.11 93.515 1353.24 Q93.515 1360.35 95.3206 1363.91 Q97.1493 1367.45 100.76 1367.45 Q104.395 1367.45 106.2 1363.91 Q108.029 1360.35 108.029 1353.24 Q108.029 1346.11 106.2 1342.57 Q104.395 1339 100.76 1339 M100.76 1335.3 Q106.571 1335.3 109.626 1339.91 Q112.705 1344.49 112.705 1353.24 Q112.705 1361.97 109.626 1366.57 Q106.571 1371.16 100.76 1371.16 Q94.9502 1371.16 91.8715 1366.57 Q88.816 1361.97 88.816 1353.24 Q88.816 1344.49 91.8715 1339.91 Q94.9502 1335.3 100.76 1335.3 Z\" fill=\"#000000\" fill-rule=\"evenodd\" fill-opacity=\"1\" /><path clip-path=\"url(#clip150)\" d=\"M120.922 1364.6 L125.807 1364.6 L125.807 1370.48 L120.922 1370.48 L120.922 1364.6 Z\" fill=\"#000000\" fill-rule=\"evenodd\" fill-opacity=\"1\" /><path clip-path=\"url(#clip150)\" d=\"M150.158 1351.85 Q153.515 1352.57 155.39 1354.84 Q157.288 1357.1 157.288 1360.44 Q157.288 1365.55 153.769 1368.35 Q150.251 1371.16 143.769 1371.16 Q141.593 1371.16 139.279 1370.72 Q136.987 1370.3 134.533 1369.44 L134.533 1364.93 Q136.478 1366.06 138.793 1366.64 Q141.107 1367.22 143.631 1367.22 Q148.029 1367.22 150.32 1365.48 Q152.635 1363.75 152.635 1360.44 Q152.635 1357.38 150.482 1355.67 Q148.353 1353.93 144.533 1353.93 L140.506 1353.93 L140.506 1350.09 L144.718 1350.09 Q148.168 1350.09 149.996 1348.73 Q151.825 1347.34 151.825 1344.74 Q151.825 1342.08 149.927 1340.67 Q148.052 1339.23 144.533 1339.23 Q142.612 1339.23 140.413 1339.65 Q138.214 1340.07 135.575 1340.95 L135.575 1336.78 Q138.237 1336.04 140.552 1335.67 Q142.89 1335.3 144.95 1335.3 Q150.274 1335.3 153.376 1337.73 Q156.478 1340.14 156.478 1344.26 Q156.478 1347.13 154.834 1349.12 Q153.191 1351.09 150.158 1351.85 Z\" fill=\"#000000\" fill-rule=\"evenodd\" fill-opacity=\"1\" /><path clip-path=\"url(#clip150)\" d=\"M100.112 1068.66 Q96.5011 1068.66 94.6724 1072.22 Q92.8669 1075.77 92.8669 1082.9 Q92.8669 1090 94.6724 1093.57 Q96.5011 1097.11 100.112 1097.11 Q103.746 1097.11 105.552 1093.57 Q107.381 1090 107.381 1082.9 Q107.381 1075.77 105.552 1072.22 Q103.746 1068.66 100.112 1068.66 M100.112 1064.96 Q105.922 1064.96 108.978 1069.56 Q112.057 1074.15 112.057 1082.9 Q112.057 1091.62 108.978 1096.23 Q105.922 1100.81 100.112 1100.81 Q94.3021 1100.81 91.2234 1096.23 Q88.1679 1091.62 88.1679 1082.9 Q88.1679 1074.15 91.2234 1069.56 Q94.3021 1064.96 100.112 1064.96 Z\" fill=\"#000000\" fill-rule=\"evenodd\" fill-opacity=\"1\" /><path clip-path=\"url(#clip150)\" d=\"M120.274 1094.26 L125.158 1094.26 L125.158 1100.14 L120.274 1100.14 L120.274 1094.26 Z\" fill=\"#000000\" fill-rule=\"evenodd\" fill-opacity=\"1\" /><path clip-path=\"url(#clip150)\" d=\"M145.343 1068.66 Q141.732 1068.66 139.904 1072.22 Q138.098 1075.77 138.098 1082.9 Q138.098 1090 139.904 1093.57 Q141.732 1097.11 145.343 1097.11 Q148.978 1097.11 150.783 1093.57 Q152.612 1090 152.612 1082.9 Q152.612 1075.77 150.783 1072.22 Q148.978 1068.66 145.343 1068.66 M145.343 1064.96 Q151.154 1064.96 154.209 1069.56 Q157.288 1074.15 157.288 1082.9 Q157.288 1091.62 154.209 1096.23 Q151.154 1100.81 145.343 1100.81 Q139.533 1100.81 136.455 1096.23 Q133.399 1091.62 133.399 1082.9 Q133.399 1074.15 136.455 1069.56 Q139.533 1064.96 145.343 1064.96 Z\" fill=\"#000000\" fill-rule=\"evenodd\" fill-opacity=\"1\" /><path clip-path=\"url(#clip150)\" d=\"M100.76 798.316 Q97.1493 798.316 95.3206 801.881 Q93.515 805.422 93.515 812.552 Q93.515 819.658 95.3206 823.223 Q97.1493 826.765 100.76 826.765 Q104.395 826.765 106.2 823.223 Q108.029 819.658 108.029 812.552 Q108.029 805.422 106.2 801.881 Q104.395 798.316 100.76 798.316 M100.76 794.612 Q106.571 794.612 109.626 799.219 Q112.705 803.802 112.705 812.552 Q112.705 821.279 109.626 825.885 Q106.571 830.468 100.76 830.468 Q94.9502 830.468 91.8715 825.885 Q88.816 821.279 88.816 812.552 Q88.816 803.802 91.8715 799.219 Q94.9502 794.612 100.76 794.612 Z\" fill=\"#000000\" fill-rule=\"evenodd\" fill-opacity=\"1\" /><path clip-path=\"url(#clip150)\" d=\"M120.922 823.918 L125.807 823.918 L125.807 829.797 L120.922 829.797 L120.922 823.918 Z\" fill=\"#000000\" fill-rule=\"evenodd\" fill-opacity=\"1\" /><path clip-path=\"url(#clip150)\" d=\"M150.158 811.163 Q153.515 811.881 155.39 814.149 Q157.288 816.418 157.288 819.751 Q157.288 824.867 153.769 827.668 Q150.251 830.468 143.769 830.468 Q141.593 830.468 139.279 830.029 Q136.987 829.612 134.533 828.756 L134.533 824.242 Q136.478 825.376 138.793 825.955 Q141.107 826.533 143.631 826.533 Q148.029 826.533 150.32 824.797 Q152.635 823.061 152.635 819.751 Q152.635 816.695 150.482 814.982 Q148.353 813.246 144.533 813.246 L140.506 813.246 L140.506 809.404 L144.718 809.404 Q148.168 809.404 149.996 808.038 Q151.825 806.649 151.825 804.057 Q151.825 801.395 149.927 799.983 Q148.052 798.547 144.533 798.547 Q142.612 798.547 140.413 798.964 Q138.214 799.381 135.575 800.26 L135.575 796.094 Q138.237 795.353 140.552 794.983 Q142.89 794.612 144.95 794.612 Q150.274 794.612 153.376 797.043 Q156.478 799.45 156.478 803.57 Q156.478 806.441 154.834 808.432 Q153.191 810.399 150.158 811.163 Z\" fill=\"#000000\" fill-rule=\"evenodd\" fill-opacity=\"1\" /><path clip-path=\"url(#clip150)\" d=\"M99.9502 527.972 Q96.3391 527.972 94.5104 531.537 Q92.7049 535.079 92.7049 542.208 Q92.7049 549.315 94.5104 552.88 Q96.3391 556.421 99.9502 556.421 Q103.584 556.421 105.39 552.88 Q107.219 549.315 107.219 542.208 Q107.219 535.079 105.39 531.537 Q103.584 527.972 99.9502 527.972 M99.9502 524.269 Q105.76 524.269 108.816 528.875 Q111.895 533.458 111.895 542.208 Q111.895 550.935 108.816 555.542 Q105.76 560.125 99.9502 560.125 Q94.14 560.125 91.0614 555.542 Q88.0058 550.935 88.0058 542.208 Q88.0058 533.458 91.0614 528.875 Q94.14 524.269 99.9502 524.269 Z\" fill=\"#000000\" fill-rule=\"evenodd\" fill-opacity=\"1\" /><path clip-path=\"url(#clip150)\" d=\"M120.112 553.574 L124.996 553.574 L124.996 559.454 L120.112 559.454 L120.112 553.574 Z\" fill=\"#000000\" fill-rule=\"evenodd\" fill-opacity=\"1\" /><path clip-path=\"url(#clip150)\" d=\"M145.76 540.31 Q142.612 540.31 140.76 542.463 Q138.931 544.616 138.931 548.366 Q138.931 552.093 140.76 554.268 Q142.612 556.421 145.76 556.421 Q148.908 556.421 150.737 554.268 Q152.589 552.093 152.589 548.366 Q152.589 544.616 150.737 542.463 Q148.908 540.31 145.76 540.31 M155.042 525.658 L155.042 529.917 Q153.283 529.083 151.478 528.644 Q149.695 528.204 147.936 528.204 Q143.306 528.204 140.853 531.329 Q138.422 534.454 138.075 540.773 Q139.441 538.759 141.501 537.695 Q143.561 536.607 146.038 536.607 Q151.246 536.607 154.255 539.778 Q157.288 542.926 157.288 548.366 Q157.288 553.69 154.14 556.907 Q150.992 560.125 145.76 560.125 Q139.765 560.125 136.594 555.542 Q133.422 550.935 133.422 542.208 Q133.422 534.014 137.311 529.153 Q141.2 524.269 147.751 524.269 Q149.51 524.269 151.293 524.616 Q153.098 524.963 155.042 525.658 Z\" fill=\"#000000\" fill-rule=\"evenodd\" fill-opacity=\"1\" /><path clip-path=\"url(#clip150)\" d=\"M100.297 257.629 Q96.6863 257.629 94.8576 261.194 Q93.0521 264.735 93.0521 271.865 Q93.0521 278.971 94.8576 282.536 Q96.6863 286.078 100.297 286.078 Q103.932 286.078 105.737 282.536 Q107.566 278.971 107.566 271.865 Q107.566 264.735 105.737 261.194 Q103.932 257.629 100.297 257.629 M100.297 253.925 Q106.108 253.925 109.163 258.532 Q112.242 263.115 112.242 271.865 Q112.242 280.592 109.163 285.198 Q106.108 289.781 100.297 289.781 Q94.4873 289.781 91.4086 285.198 Q88.353 280.592 88.353 271.865 Q88.353 263.115 91.4086 258.532 Q94.4873 253.925 100.297 253.925 Z\" fill=\"#000000\" fill-rule=\"evenodd\" fill-opacity=\"1\" /><path clip-path=\"url(#clip150)\" d=\"M120.459 283.23 L125.344 283.23 L125.344 289.11 L120.459 289.11 L120.459 283.23 Z\" fill=\"#000000\" fill-rule=\"evenodd\" fill-opacity=\"1\" /><path clip-path=\"url(#clip150)\" d=\"M135.668 288.392 L135.668 284.133 Q137.427 284.967 139.232 285.406 Q141.038 285.846 142.774 285.846 Q147.404 285.846 149.834 282.744 Q152.288 279.619 152.635 273.277 Q151.293 275.268 149.232 276.332 Q147.172 277.397 144.672 277.397 Q139.487 277.397 136.455 274.272 Q133.445 271.124 133.445 265.684 Q133.445 260.36 136.594 257.143 Q139.742 253.925 144.973 253.925 Q150.968 253.925 154.117 258.532 Q157.288 263.115 157.288 271.865 Q157.288 280.036 153.399 284.92 Q149.533 289.781 142.982 289.781 Q141.223 289.781 139.418 289.434 Q137.612 289.087 135.668 288.392 M144.973 273.74 Q148.121 273.74 149.95 271.587 Q151.802 269.434 151.802 265.684 Q151.802 261.957 149.95 259.805 Q148.121 257.629 144.973 257.629 Q141.825 257.629 139.973 259.805 Q138.144 261.957 138.144 265.684 Q138.144 269.434 139.973 271.587 Q141.825 273.74 144.973 273.74 Z\" fill=\"#000000\" fill-rule=\"evenodd\" fill-opacity=\"1\" /><polyline clip-path=\"url(#clip152)\" style=\"stroke:#009af9; stroke-linecap:butt; stroke-linejoin:round; stroke-width:4; stroke-opacity:1; fill:none\" points=\"\n",
       "  254.405,383.736 295.15,1377.03 335.894,1444.23 376.639,1151.54 417.384,916.827 458.128,540.114 498.873,334.836 539.618,219.85 580.362,154.025 621.107,115.996 \n",
       "  661.852,95.4325 702.596,87.9763 743.341,89.7908 784.086,98.3987 824.83,112.44 865.575,130.531 906.32,152.135 947.064,176.527 987.809,203.599 1028.55,232.875 \n",
       "  1069.3,264.391 1110.04,298.153 1150.79,334.305 1191.53,373.057 1232.28,414.833 1273.02,459.168 1313.77,512.899 1354.51,551.931 1395.26,644.388 1436,631.836 \n",
       "  1476.75,725.951 1517.49,824.863 1558.23,840.209 1598.98,905.331 1639.72,1058.09 1680.47,1015.03 1721.21,1013.67 1761.96,1046.17 1802.7,1103.71 1843.45,1242.18 \n",
       "  1884.19,1445.72 1924.94,1235.45 1965.68,1262.49 2006.43,1189.32 2047.17,1176.31 2087.92,1180.81 2128.66,1197.92 2169.4,1229.66 2210.15,1288.41 2250.89,1359.95 \n",
       "  2291.64,1414.44 \n",
       "  \"/>\n",
       "<circle clip-path=\"url(#clip152)\" cx=\"254.405\" cy=\"383.736\" r=\"10\" fill=\"#009af9\" fill-rule=\"evenodd\" fill-opacity=\"1\" stroke=\"#000000\" stroke-opacity=\"1\" stroke-width=\"3.2\"/>\n",
       "<circle clip-path=\"url(#clip152)\" cx=\"295.15\" cy=\"1377.03\" r=\"10\" fill=\"#009af9\" fill-rule=\"evenodd\" fill-opacity=\"1\" stroke=\"#000000\" stroke-opacity=\"1\" stroke-width=\"3.2\"/>\n",
       "<circle clip-path=\"url(#clip152)\" cx=\"335.894\" cy=\"1444.23\" r=\"10\" fill=\"#009af9\" fill-rule=\"evenodd\" fill-opacity=\"1\" stroke=\"#000000\" stroke-opacity=\"1\" stroke-width=\"3.2\"/>\n",
       "<circle clip-path=\"url(#clip152)\" cx=\"376.639\" cy=\"1151.54\" r=\"10\" fill=\"#009af9\" fill-rule=\"evenodd\" fill-opacity=\"1\" stroke=\"#000000\" stroke-opacity=\"1\" stroke-width=\"3.2\"/>\n",
       "<circle clip-path=\"url(#clip152)\" cx=\"417.384\" cy=\"916.827\" r=\"10\" fill=\"#009af9\" fill-rule=\"evenodd\" fill-opacity=\"1\" stroke=\"#000000\" stroke-opacity=\"1\" stroke-width=\"3.2\"/>\n",
       "<circle clip-path=\"url(#clip152)\" cx=\"458.128\" cy=\"540.114\" r=\"10\" fill=\"#009af9\" fill-rule=\"evenodd\" fill-opacity=\"1\" stroke=\"#000000\" stroke-opacity=\"1\" stroke-width=\"3.2\"/>\n",
       "<circle clip-path=\"url(#clip152)\" cx=\"498.873\" cy=\"334.836\" r=\"10\" fill=\"#009af9\" fill-rule=\"evenodd\" fill-opacity=\"1\" stroke=\"#000000\" stroke-opacity=\"1\" stroke-width=\"3.2\"/>\n",
       "<circle clip-path=\"url(#clip152)\" cx=\"539.618\" cy=\"219.85\" r=\"10\" fill=\"#009af9\" fill-rule=\"evenodd\" fill-opacity=\"1\" stroke=\"#000000\" stroke-opacity=\"1\" stroke-width=\"3.2\"/>\n",
       "<circle clip-path=\"url(#clip152)\" cx=\"580.362\" cy=\"154.025\" r=\"10\" fill=\"#009af9\" fill-rule=\"evenodd\" fill-opacity=\"1\" stroke=\"#000000\" stroke-opacity=\"1\" stroke-width=\"3.2\"/>\n",
       "<circle clip-path=\"url(#clip152)\" cx=\"621.107\" cy=\"115.996\" r=\"10\" fill=\"#009af9\" fill-rule=\"evenodd\" fill-opacity=\"1\" stroke=\"#000000\" stroke-opacity=\"1\" stroke-width=\"3.2\"/>\n",
       "<circle clip-path=\"url(#clip152)\" cx=\"661.852\" cy=\"95.4325\" r=\"10\" fill=\"#009af9\" fill-rule=\"evenodd\" fill-opacity=\"1\" stroke=\"#000000\" stroke-opacity=\"1\" stroke-width=\"3.2\"/>\n",
       "<circle clip-path=\"url(#clip152)\" cx=\"702.596\" cy=\"87.9763\" r=\"10\" fill=\"#009af9\" fill-rule=\"evenodd\" fill-opacity=\"1\" stroke=\"#000000\" stroke-opacity=\"1\" stroke-width=\"3.2\"/>\n",
       "<circle clip-path=\"url(#clip152)\" cx=\"743.341\" cy=\"89.7908\" r=\"10\" fill=\"#009af9\" fill-rule=\"evenodd\" fill-opacity=\"1\" stroke=\"#000000\" stroke-opacity=\"1\" stroke-width=\"3.2\"/>\n",
       "<circle clip-path=\"url(#clip152)\" cx=\"784.086\" cy=\"98.3987\" r=\"10\" fill=\"#009af9\" fill-rule=\"evenodd\" fill-opacity=\"1\" stroke=\"#000000\" stroke-opacity=\"1\" stroke-width=\"3.2\"/>\n",
       "<circle clip-path=\"url(#clip152)\" cx=\"824.83\" cy=\"112.44\" r=\"10\" fill=\"#009af9\" fill-rule=\"evenodd\" fill-opacity=\"1\" stroke=\"#000000\" stroke-opacity=\"1\" stroke-width=\"3.2\"/>\n",
       "<circle clip-path=\"url(#clip152)\" cx=\"865.575\" cy=\"130.531\" r=\"10\" fill=\"#009af9\" fill-rule=\"evenodd\" fill-opacity=\"1\" stroke=\"#000000\" stroke-opacity=\"1\" stroke-width=\"3.2\"/>\n",
       "<circle clip-path=\"url(#clip152)\" cx=\"906.32\" cy=\"152.135\" r=\"10\" fill=\"#009af9\" fill-rule=\"evenodd\" fill-opacity=\"1\" stroke=\"#000000\" stroke-opacity=\"1\" stroke-width=\"3.2\"/>\n",
       "<circle clip-path=\"url(#clip152)\" cx=\"947.064\" cy=\"176.527\" r=\"10\" fill=\"#009af9\" fill-rule=\"evenodd\" fill-opacity=\"1\" stroke=\"#000000\" stroke-opacity=\"1\" stroke-width=\"3.2\"/>\n",
       "<circle clip-path=\"url(#clip152)\" cx=\"987.809\" cy=\"203.599\" r=\"10\" fill=\"#009af9\" fill-rule=\"evenodd\" fill-opacity=\"1\" stroke=\"#000000\" stroke-opacity=\"1\" stroke-width=\"3.2\"/>\n",
       "<circle clip-path=\"url(#clip152)\" cx=\"1028.55\" cy=\"232.875\" r=\"10\" fill=\"#009af9\" fill-rule=\"evenodd\" fill-opacity=\"1\" stroke=\"#000000\" stroke-opacity=\"1\" stroke-width=\"3.2\"/>\n",
       "<circle clip-path=\"url(#clip152)\" cx=\"1069.3\" cy=\"264.391\" r=\"10\" fill=\"#009af9\" fill-rule=\"evenodd\" fill-opacity=\"1\" stroke=\"#000000\" stroke-opacity=\"1\" stroke-width=\"3.2\"/>\n",
       "<circle clip-path=\"url(#clip152)\" cx=\"1110.04\" cy=\"298.153\" r=\"10\" fill=\"#009af9\" fill-rule=\"evenodd\" fill-opacity=\"1\" stroke=\"#000000\" stroke-opacity=\"1\" stroke-width=\"3.2\"/>\n",
       "<circle clip-path=\"url(#clip152)\" cx=\"1150.79\" cy=\"334.305\" r=\"10\" fill=\"#009af9\" fill-rule=\"evenodd\" fill-opacity=\"1\" stroke=\"#000000\" stroke-opacity=\"1\" stroke-width=\"3.2\"/>\n",
       "<circle clip-path=\"url(#clip152)\" cx=\"1191.53\" cy=\"373.057\" r=\"10\" fill=\"#009af9\" fill-rule=\"evenodd\" fill-opacity=\"1\" stroke=\"#000000\" stroke-opacity=\"1\" stroke-width=\"3.2\"/>\n",
       "<circle clip-path=\"url(#clip152)\" cx=\"1232.28\" cy=\"414.833\" r=\"10\" fill=\"#009af9\" fill-rule=\"evenodd\" fill-opacity=\"1\" stroke=\"#000000\" stroke-opacity=\"1\" stroke-width=\"3.2\"/>\n",
       "<circle clip-path=\"url(#clip152)\" cx=\"1273.02\" cy=\"459.168\" r=\"10\" fill=\"#009af9\" fill-rule=\"evenodd\" fill-opacity=\"1\" stroke=\"#000000\" stroke-opacity=\"1\" stroke-width=\"3.2\"/>\n",
       "<circle clip-path=\"url(#clip152)\" cx=\"1313.77\" cy=\"512.899\" r=\"10\" fill=\"#009af9\" fill-rule=\"evenodd\" fill-opacity=\"1\" stroke=\"#000000\" stroke-opacity=\"1\" stroke-width=\"3.2\"/>\n",
       "<circle clip-path=\"url(#clip152)\" cx=\"1354.51\" cy=\"551.931\" r=\"10\" fill=\"#009af9\" fill-rule=\"evenodd\" fill-opacity=\"1\" stroke=\"#000000\" stroke-opacity=\"1\" stroke-width=\"3.2\"/>\n",
       "<circle clip-path=\"url(#clip152)\" cx=\"1395.26\" cy=\"644.388\" r=\"10\" fill=\"#009af9\" fill-rule=\"evenodd\" fill-opacity=\"1\" stroke=\"#000000\" stroke-opacity=\"1\" stroke-width=\"3.2\"/>\n",
       "<circle clip-path=\"url(#clip152)\" cx=\"1436\" cy=\"631.836\" r=\"10\" fill=\"#009af9\" fill-rule=\"evenodd\" fill-opacity=\"1\" stroke=\"#000000\" stroke-opacity=\"1\" stroke-width=\"3.2\"/>\n",
       "<circle clip-path=\"url(#clip152)\" cx=\"1476.75\" cy=\"725.951\" r=\"10\" fill=\"#009af9\" fill-rule=\"evenodd\" fill-opacity=\"1\" stroke=\"#000000\" stroke-opacity=\"1\" stroke-width=\"3.2\"/>\n",
       "<circle clip-path=\"url(#clip152)\" cx=\"1517.49\" cy=\"824.863\" r=\"10\" fill=\"#009af9\" fill-rule=\"evenodd\" fill-opacity=\"1\" stroke=\"#000000\" stroke-opacity=\"1\" stroke-width=\"3.2\"/>\n",
       "<circle clip-path=\"url(#clip152)\" cx=\"1558.23\" cy=\"840.209\" r=\"10\" fill=\"#009af9\" fill-rule=\"evenodd\" fill-opacity=\"1\" stroke=\"#000000\" stroke-opacity=\"1\" stroke-width=\"3.2\"/>\n",
       "<circle clip-path=\"url(#clip152)\" cx=\"1598.98\" cy=\"905.331\" r=\"10\" fill=\"#009af9\" fill-rule=\"evenodd\" fill-opacity=\"1\" stroke=\"#000000\" stroke-opacity=\"1\" stroke-width=\"3.2\"/>\n",
       "<circle clip-path=\"url(#clip152)\" cx=\"1639.72\" cy=\"1058.09\" r=\"10\" fill=\"#009af9\" fill-rule=\"evenodd\" fill-opacity=\"1\" stroke=\"#000000\" stroke-opacity=\"1\" stroke-width=\"3.2\"/>\n",
       "<circle clip-path=\"url(#clip152)\" cx=\"1680.47\" cy=\"1015.03\" r=\"10\" fill=\"#009af9\" fill-rule=\"evenodd\" fill-opacity=\"1\" stroke=\"#000000\" stroke-opacity=\"1\" stroke-width=\"3.2\"/>\n",
       "<circle clip-path=\"url(#clip152)\" cx=\"1721.21\" cy=\"1013.67\" r=\"10\" fill=\"#009af9\" fill-rule=\"evenodd\" fill-opacity=\"1\" stroke=\"#000000\" stroke-opacity=\"1\" stroke-width=\"3.2\"/>\n",
       "<circle clip-path=\"url(#clip152)\" cx=\"1761.96\" cy=\"1046.17\" r=\"10\" fill=\"#009af9\" fill-rule=\"evenodd\" fill-opacity=\"1\" stroke=\"#000000\" stroke-opacity=\"1\" stroke-width=\"3.2\"/>\n",
       "<circle clip-path=\"url(#clip152)\" cx=\"1802.7\" cy=\"1103.71\" r=\"10\" fill=\"#009af9\" fill-rule=\"evenodd\" fill-opacity=\"1\" stroke=\"#000000\" stroke-opacity=\"1\" stroke-width=\"3.2\"/>\n",
       "<circle clip-path=\"url(#clip152)\" cx=\"1843.45\" cy=\"1242.18\" r=\"10\" fill=\"#009af9\" fill-rule=\"evenodd\" fill-opacity=\"1\" stroke=\"#000000\" stroke-opacity=\"1\" stroke-width=\"3.2\"/>\n",
       "<circle clip-path=\"url(#clip152)\" cx=\"1884.19\" cy=\"1445.72\" r=\"10\" fill=\"#009af9\" fill-rule=\"evenodd\" fill-opacity=\"1\" stroke=\"#000000\" stroke-opacity=\"1\" stroke-width=\"3.2\"/>\n",
       "<circle clip-path=\"url(#clip152)\" cx=\"1924.94\" cy=\"1235.45\" r=\"10\" fill=\"#009af9\" fill-rule=\"evenodd\" fill-opacity=\"1\" stroke=\"#000000\" stroke-opacity=\"1\" stroke-width=\"3.2\"/>\n",
       "<circle clip-path=\"url(#clip152)\" cx=\"1965.68\" cy=\"1262.49\" r=\"10\" fill=\"#009af9\" fill-rule=\"evenodd\" fill-opacity=\"1\" stroke=\"#000000\" stroke-opacity=\"1\" stroke-width=\"3.2\"/>\n",
       "<circle clip-path=\"url(#clip152)\" cx=\"2006.43\" cy=\"1189.32\" r=\"10\" fill=\"#009af9\" fill-rule=\"evenodd\" fill-opacity=\"1\" stroke=\"#000000\" stroke-opacity=\"1\" stroke-width=\"3.2\"/>\n",
       "<circle clip-path=\"url(#clip152)\" cx=\"2047.17\" cy=\"1176.31\" r=\"10\" fill=\"#009af9\" fill-rule=\"evenodd\" fill-opacity=\"1\" stroke=\"#000000\" stroke-opacity=\"1\" stroke-width=\"3.2\"/>\n",
       "<circle clip-path=\"url(#clip152)\" cx=\"2087.92\" cy=\"1180.81\" r=\"10\" fill=\"#009af9\" fill-rule=\"evenodd\" fill-opacity=\"1\" stroke=\"#000000\" stroke-opacity=\"1\" stroke-width=\"3.2\"/>\n",
       "<circle clip-path=\"url(#clip152)\" cx=\"2128.66\" cy=\"1197.92\" r=\"10\" fill=\"#009af9\" fill-rule=\"evenodd\" fill-opacity=\"1\" stroke=\"#000000\" stroke-opacity=\"1\" stroke-width=\"3.2\"/>\n",
       "<circle clip-path=\"url(#clip152)\" cx=\"2169.4\" cy=\"1229.66\" r=\"10\" fill=\"#009af9\" fill-rule=\"evenodd\" fill-opacity=\"1\" stroke=\"#000000\" stroke-opacity=\"1\" stroke-width=\"3.2\"/>\n",
       "<circle clip-path=\"url(#clip152)\" cx=\"2210.15\" cy=\"1288.41\" r=\"10\" fill=\"#009af9\" fill-rule=\"evenodd\" fill-opacity=\"1\" stroke=\"#000000\" stroke-opacity=\"1\" stroke-width=\"3.2\"/>\n",
       "<circle clip-path=\"url(#clip152)\" cx=\"2250.89\" cy=\"1359.95\" r=\"10\" fill=\"#009af9\" fill-rule=\"evenodd\" fill-opacity=\"1\" stroke=\"#000000\" stroke-opacity=\"1\" stroke-width=\"3.2\"/>\n",
       "<circle clip-path=\"url(#clip152)\" cx=\"2291.64\" cy=\"1414.44\" r=\"10\" fill=\"#009af9\" fill-rule=\"evenodd\" fill-opacity=\"1\" stroke=\"#000000\" stroke-opacity=\"1\" stroke-width=\"3.2\"/>\n",
       "<polyline clip-path=\"url(#clip152)\" style=\"stroke:#e26f46; stroke-linecap:butt; stroke-linejoin:round; stroke-width:4; stroke-opacity:1; fill:none\" stroke-dasharray=\"16, 10\" points=\"\n",
       "  -1966.18,1082.86 4512.22,1082.86 \n",
       "  \"/>\n",
       "<path clip-path=\"url(#clip150)\" d=\"\n",
       "M1988.4 276.658 L2280.77 276.658 L2280.77 95.2176 L1988.4 95.2176  Z\n",
       "  \" fill=\"#ffffff\" fill-rule=\"evenodd\" fill-opacity=\"1\"/>\n",
       "<polyline clip-path=\"url(#clip150)\" style=\"stroke:#000000; stroke-linecap:butt; stroke-linejoin:round; stroke-width:4; stroke-opacity:1; fill:none\" points=\"\n",
       "  1988.4,276.658 2280.77,276.658 2280.77,95.2176 1988.4,95.2176 1988.4,276.658 \n",
       "  \"/>\n",
       "<polyline clip-path=\"url(#clip150)\" style=\"stroke:#009af9; stroke-linecap:butt; stroke-linejoin:round; stroke-width:4; stroke-opacity:1; fill:none\" points=\"\n",
       "  2012.4,155.698 2156.36,155.698 \n",
       "  \"/>\n",
       "<circle clip-path=\"url(#clip150)\" cx=\"2084.38\" cy=\"155.698\" r=\"23\" fill=\"#009af9\" fill-rule=\"evenodd\" fill-opacity=\"1\" stroke=\"#000000\" stroke-opacity=\"1\" stroke-width=\"6.82667\"/>\n",
       "<path clip-path=\"url(#clip150)\" d=\"M2194.2 175.385 Q2192.39 180.015 2190.68 181.427 Q2188.97 182.839 2186.1 182.839 L2182.69 182.839 L2182.69 179.274 L2185.19 179.274 Q2186.95 179.274 2187.92 178.44 Q2188.9 177.607 2190.08 174.505 L2190.84 172.561 L2180.36 147.052 L2184.87 147.052 L2192.97 167.329 L2201.07 147.052 L2205.59 147.052 L2194.2 175.385 Z\" fill=\"#000000\" fill-rule=\"evenodd\" fill-opacity=\"1\" /><path clip-path=\"url(#clip150)\" d=\"M2212.88 169.042 L2220.52 169.042 L2220.52 142.677 L2212.21 144.343 L2212.21 140.084 L2220.47 138.418 L2225.15 138.418 L2225.15 169.042 L2232.79 169.042 L2232.79 172.978 L2212.88 172.978 L2212.88 169.042 Z\" fill=\"#000000\" fill-rule=\"evenodd\" fill-opacity=\"1\" /><polyline clip-path=\"url(#clip150)\" style=\"stroke:#e26f46; stroke-linecap:butt; stroke-linejoin:round; stroke-width:4; stroke-opacity:1; fill:none\" stroke-dasharray=\"16, 10\" points=\"\n",
       "  2012.4,216.178 2156.36,216.178 \n",
       "  \"/>\n",
       "<path clip-path=\"url(#clip150)\" d=\"M2194.2 235.865 Q2192.39 240.495 2190.68 241.907 Q2188.97 243.319 2186.1 243.319 L2182.69 243.319 L2182.69 239.754 L2185.19 239.754 Q2186.95 239.754 2187.92 238.92 Q2188.9 238.087 2190.08 234.985 L2190.84 233.041 L2180.36 207.532 L2184.87 207.532 L2192.97 227.809 L2201.07 207.532 L2205.59 207.532 L2194.2 235.865 Z\" fill=\"#000000\" fill-rule=\"evenodd\" fill-opacity=\"1\" /><path clip-path=\"url(#clip150)\" d=\"M2216.1 229.522 L2232.42 229.522 L2232.42 233.458 L2210.47 233.458 L2210.47 229.522 Q2213.13 226.768 2217.72 222.138 Q2222.32 217.485 2223.5 216.143 Q2225.75 213.62 2226.63 211.884 Q2227.53 210.124 2227.53 208.435 Q2227.53 205.68 2225.59 203.944 Q2223.67 202.208 2220.56 202.208 Q2218.36 202.208 2215.91 202.972 Q2213.48 203.735 2210.7 205.286 L2210.7 200.564 Q2213.53 199.43 2215.98 198.851 Q2218.43 198.273 2220.47 198.273 Q2225.84 198.273 2229.04 200.958 Q2232.23 203.643 2232.23 208.134 Q2232.23 210.263 2231.42 212.185 Q2230.63 214.083 2228.53 216.675 Q2227.95 217.347 2224.85 220.564 Q2221.74 223.759 2216.1 229.522 Z\" fill=\"#000000\" fill-rule=\"evenodd\" fill-opacity=\"1\" /></svg>\n"
      ],
      "image/svg+xml": [
       "<?xml version=\"1.0\" encoding=\"utf-8\"?>\n",
       "<svg xmlns=\"http://www.w3.org/2000/svg\" xmlns:xlink=\"http://www.w3.org/1999/xlink\" width=\"600\" height=\"400\" viewBox=\"0 0 2400 1600\">\n",
       "<defs>\n",
       "  <clipPath id=\"clip100\">\n",
       "    <rect x=\"0\" y=\"0\" width=\"2400\" height=\"1600\"/>\n",
       "  </clipPath>\n",
       "</defs>\n",
       "<path clip-path=\"url(#clip100)\" d=\"\n",
       "M0 1600 L2400 1600 L2400 0 L0 0  Z\n",
       "  \" fill=\"#ffffff\" fill-rule=\"evenodd\" fill-opacity=\"1\"/>\n",
       "<defs>\n",
       "  <clipPath id=\"clip101\">\n",
       "    <rect x=\"480\" y=\"0\" width=\"1681\" height=\"1600\"/>\n",
       "  </clipPath>\n",
       "</defs>\n",
       "<path clip-path=\"url(#clip100)\" d=\"\n",
       "M193.288 1486.45 L2352.76 1486.45 L2352.76 47.2441 L193.288 47.2441  Z\n",
       "  \" fill=\"#ffffff\" fill-rule=\"evenodd\" fill-opacity=\"1\"/>\n",
       "<defs>\n",
       "  <clipPath id=\"clip102\">\n",
       "    <rect x=\"193\" y=\"47\" width=\"2160\" height=\"1440\"/>\n",
       "  </clipPath>\n",
       "</defs>\n",
       "<polyline clip-path=\"url(#clip102)\" style=\"stroke:#000000; stroke-linecap:butt; stroke-linejoin:round; stroke-width:2; stroke-opacity:0.1; fill:none\" points=\"\n",
       "  254.405,1486.45 254.405,47.2441 \n",
       "  \"/>\n",
       "<polyline clip-path=\"url(#clip102)\" style=\"stroke:#000000; stroke-linecap:butt; stroke-linejoin:round; stroke-width:2; stroke-opacity:0.1; fill:none\" points=\"\n",
       "  763.713,1486.45 763.713,47.2441 \n",
       "  \"/>\n",
       "<polyline clip-path=\"url(#clip102)\" style=\"stroke:#000000; stroke-linecap:butt; stroke-linejoin:round; stroke-width:2; stroke-opacity:0.1; fill:none\" points=\"\n",
       "  1273.02,1486.45 1273.02,47.2441 \n",
       "  \"/>\n",
       "<polyline clip-path=\"url(#clip102)\" style=\"stroke:#000000; stroke-linecap:butt; stroke-linejoin:round; stroke-width:2; stroke-opacity:0.1; fill:none\" points=\"\n",
       "  1782.33,1486.45 1782.33,47.2441 \n",
       "  \"/>\n",
       "<polyline clip-path=\"url(#clip102)\" style=\"stroke:#000000; stroke-linecap:butt; stroke-linejoin:round; stroke-width:2; stroke-opacity:0.1; fill:none\" points=\"\n",
       "  2291.64,1486.45 2291.64,47.2441 \n",
       "  \"/>\n",
       "<polyline clip-path=\"url(#clip100)\" style=\"stroke:#000000; stroke-linecap:butt; stroke-linejoin:round; stroke-width:4; stroke-opacity:1; fill:none\" points=\"\n",
       "  193.288,1486.45 2352.76,1486.45 \n",
       "  \"/>\n",
       "<polyline clip-path=\"url(#clip100)\" style=\"stroke:#000000; stroke-linecap:butt; stroke-linejoin:round; stroke-width:4; stroke-opacity:1; fill:none\" points=\"\n",
       "  254.405,1486.45 254.405,1469.18 \n",
       "  \"/>\n",
       "<polyline clip-path=\"url(#clip100)\" style=\"stroke:#000000; stroke-linecap:butt; stroke-linejoin:round; stroke-width:4; stroke-opacity:1; fill:none\" points=\"\n",
       "  763.713,1486.45 763.713,1469.18 \n",
       "  \"/>\n",
       "<polyline clip-path=\"url(#clip100)\" style=\"stroke:#000000; stroke-linecap:butt; stroke-linejoin:round; stroke-width:4; stroke-opacity:1; fill:none\" points=\"\n",
       "  1273.02,1486.45 1273.02,1469.18 \n",
       "  \"/>\n",
       "<polyline clip-path=\"url(#clip100)\" style=\"stroke:#000000; stroke-linecap:butt; stroke-linejoin:round; stroke-width:4; stroke-opacity:1; fill:none\" points=\"\n",
       "  1782.33,1486.45 1782.33,1469.18 \n",
       "  \"/>\n",
       "<polyline clip-path=\"url(#clip100)\" style=\"stroke:#000000; stroke-linecap:butt; stroke-linejoin:round; stroke-width:4; stroke-opacity:1; fill:none\" points=\"\n",
       "  2291.64,1486.45 2291.64,1469.18 \n",
       "  \"/>\n",
       "<path clip-path=\"url(#clip100)\" d=\"M254.405 1515.64 Q250.794 1515.64 248.965 1519.2 Q247.16 1522.75 247.16 1529.87 Q247.16 1536.98 248.965 1540.55 Q250.794 1544.09 254.405 1544.09 Q258.039 1544.09 259.845 1540.55 Q261.673 1536.98 261.673 1529.87 Q261.673 1522.75 259.845 1519.2 Q258.039 1515.64 254.405 1515.64 M254.405 1511.93 Q260.215 1511.93 263.271 1516.54 Q266.349 1521.12 266.349 1529.87 Q266.349 1538.6 263.271 1543.21 Q260.215 1547.79 254.405 1547.79 Q248.595 1547.79 245.516 1543.21 Q242.46 1538.6 242.46 1529.87 Q242.46 1521.12 245.516 1516.54 Q248.595 1511.93 254.405 1511.93 Z\" fill=\"#000000\" fill-rule=\"evenodd\" fill-opacity=\"1\" /><path clip-path=\"url(#clip100)\" d=\"M742.984 1543.18 L759.304 1543.18 L759.304 1547.12 L737.359 1547.12 L737.359 1543.18 Q740.021 1540.43 744.605 1535.8 Q749.211 1531.15 750.392 1529.81 Q752.637 1527.28 753.517 1525.55 Q754.419 1523.79 754.419 1522.1 Q754.419 1519.34 752.475 1517.61 Q750.554 1515.87 747.452 1515.87 Q745.253 1515.87 742.799 1516.63 Q740.369 1517.4 737.591 1518.95 L737.591 1514.23 Q740.415 1513.09 742.869 1512.51 Q745.322 1511.93 747.359 1511.93 Q752.73 1511.93 755.924 1514.62 Q759.118 1517.31 759.118 1521.8 Q759.118 1523.93 758.308 1525.85 Q757.521 1527.74 755.415 1530.34 Q754.836 1531.01 751.734 1534.23 Q748.632 1537.42 742.984 1543.18 Z\" fill=\"#000000\" fill-rule=\"evenodd\" fill-opacity=\"1\" /><path clip-path=\"url(#clip100)\" d=\"M769.165 1512.56 L787.521 1512.56 L787.521 1516.5 L773.447 1516.5 L773.447 1524.97 Q774.466 1524.62 775.484 1524.46 Q776.503 1524.27 777.521 1524.27 Q783.308 1524.27 786.688 1527.44 Q790.067 1530.62 790.067 1536.03 Q790.067 1541.61 786.595 1544.71 Q783.123 1547.79 776.804 1547.79 Q774.628 1547.79 772.359 1547.42 Q770.114 1547.05 767.706 1546.31 L767.706 1541.61 Q769.79 1542.74 772.012 1543.3 Q774.234 1543.86 776.711 1543.86 Q780.716 1543.86 783.054 1541.75 Q785.392 1539.64 785.392 1536.03 Q785.392 1532.42 783.054 1530.31 Q780.716 1528.21 776.711 1528.21 Q774.836 1528.21 772.961 1528.62 Q771.109 1529.04 769.165 1529.92 L769.165 1512.56 Z\" fill=\"#000000\" fill-rule=\"evenodd\" fill-opacity=\"1\" /><path clip-path=\"url(#clip100)\" d=\"M1247.72 1512.56 L1266.08 1512.56 L1266.08 1516.5 L1252 1516.5 L1252 1524.97 Q1253.02 1524.62 1254.04 1524.46 Q1255.06 1524.27 1256.08 1524.27 Q1261.86 1524.27 1265.24 1527.44 Q1268.62 1530.62 1268.62 1536.03 Q1268.62 1541.61 1265.15 1544.71 Q1261.68 1547.79 1255.36 1547.79 Q1253.18 1547.79 1250.92 1547.42 Q1248.67 1547.05 1246.26 1546.31 L1246.26 1541.61 Q1248.35 1542.74 1250.57 1543.3 Q1252.79 1543.86 1255.27 1543.86 Q1259.27 1543.86 1261.61 1541.75 Q1263.95 1539.64 1263.95 1536.03 Q1263.95 1532.42 1261.61 1530.31 Q1259.27 1528.21 1255.27 1528.21 Q1253.39 1528.21 1251.52 1528.62 Q1249.67 1529.04 1247.72 1529.92 L1247.72 1512.56 Z\" fill=\"#000000\" fill-rule=\"evenodd\" fill-opacity=\"1\" /><path clip-path=\"url(#clip100)\" d=\"M1287.84 1515.64 Q1284.23 1515.64 1282.4 1519.2 Q1280.59 1522.75 1280.59 1529.87 Q1280.59 1536.98 1282.4 1540.55 Q1284.23 1544.09 1287.84 1544.09 Q1291.47 1544.09 1293.28 1540.55 Q1295.11 1536.98 1295.11 1529.87 Q1295.11 1522.75 1293.28 1519.2 Q1291.47 1515.64 1287.84 1515.64 M1287.84 1511.93 Q1293.65 1511.93 1296.7 1516.54 Q1299.78 1521.12 1299.78 1529.87 Q1299.78 1538.6 1296.7 1543.21 Q1293.65 1547.79 1287.84 1547.79 Q1282.03 1547.79 1278.95 1543.21 Q1275.89 1538.6 1275.89 1529.87 Q1275.89 1521.12 1278.95 1516.54 Q1282.03 1511.93 1287.84 1511.93 Z\" fill=\"#000000\" fill-rule=\"evenodd\" fill-opacity=\"1\" /><path clip-path=\"url(#clip100)\" d=\"M1756.18 1512.56 L1778.41 1512.56 L1778.41 1514.55 L1765.86 1547.12 L1760.98 1547.12 L1772.78 1516.5 L1756.18 1516.5 L1756.18 1512.56 Z\" fill=\"#000000\" fill-rule=\"evenodd\" fill-opacity=\"1\" /><path clip-path=\"url(#clip100)\" d=\"M1787.57 1512.56 L1805.93 1512.56 L1805.93 1516.5 L1791.86 1516.5 L1791.86 1524.97 Q1792.87 1524.62 1793.89 1524.46 Q1794.91 1524.27 1795.93 1524.27 Q1801.72 1524.27 1805.1 1527.44 Q1808.48 1530.62 1808.48 1536.03 Q1808.48 1541.61 1805 1544.71 Q1801.53 1547.79 1795.21 1547.79 Q1793.04 1547.79 1790.77 1547.42 Q1788.52 1547.05 1786.12 1546.31 L1786.12 1541.61 Q1788.2 1542.74 1790.42 1543.3 Q1792.64 1543.86 1795.12 1543.86 Q1799.12 1543.86 1801.46 1541.75 Q1803.8 1539.64 1803.8 1536.03 Q1803.8 1532.42 1801.46 1530.31 Q1799.12 1528.21 1795.12 1528.21 Q1793.24 1528.21 1791.37 1528.62 Q1789.52 1529.04 1787.57 1529.92 L1787.57 1512.56 Z\" fill=\"#000000\" fill-rule=\"evenodd\" fill-opacity=\"1\" /><path clip-path=\"url(#clip100)\" d=\"M2251.25 1543.18 L2258.88 1543.18 L2258.88 1516.82 L2250.57 1518.49 L2250.57 1514.23 L2258.84 1512.56 L2263.51 1512.56 L2263.51 1543.18 L2271.15 1543.18 L2271.15 1547.12 L2251.25 1547.12 L2251.25 1543.18 Z\" fill=\"#000000\" fill-rule=\"evenodd\" fill-opacity=\"1\" /><path clip-path=\"url(#clip100)\" d=\"M2290.6 1515.64 Q2286.99 1515.64 2285.16 1519.2 Q2283.35 1522.75 2283.35 1529.87 Q2283.35 1536.98 2285.16 1540.55 Q2286.99 1544.09 2290.6 1544.09 Q2294.23 1544.09 2296.04 1540.55 Q2297.87 1536.98 2297.87 1529.87 Q2297.87 1522.75 2296.04 1519.2 Q2294.23 1515.64 2290.6 1515.64 M2290.6 1511.93 Q2296.41 1511.93 2299.46 1516.54 Q2302.54 1521.12 2302.54 1529.87 Q2302.54 1538.6 2299.46 1543.21 Q2296.41 1547.79 2290.6 1547.79 Q2284.79 1547.79 2281.71 1543.21 Q2278.65 1538.6 2278.65 1529.87 Q2278.65 1521.12 2281.71 1516.54 Q2284.79 1511.93 2290.6 1511.93 Z\" fill=\"#000000\" fill-rule=\"evenodd\" fill-opacity=\"1\" /><path clip-path=\"url(#clip100)\" d=\"M2320.76 1515.64 Q2317.15 1515.64 2315.32 1519.2 Q2313.51 1522.75 2313.51 1529.87 Q2313.51 1536.98 2315.32 1540.55 Q2317.15 1544.09 2320.76 1544.09 Q2324.39 1544.09 2326.2 1540.55 Q2328.03 1536.98 2328.03 1529.87 Q2328.03 1522.75 2326.2 1519.2 Q2324.39 1515.64 2320.76 1515.64 M2320.76 1511.93 Q2326.57 1511.93 2329.62 1516.54 Q2332.7 1521.12 2332.7 1529.87 Q2332.7 1538.6 2329.62 1543.21 Q2326.57 1547.79 2320.76 1547.79 Q2314.95 1547.79 2311.87 1543.21 Q2308.81 1538.6 2308.81 1529.87 Q2308.81 1521.12 2311.87 1516.54 Q2314.95 1511.93 2320.76 1511.93 Z\" fill=\"#000000\" fill-rule=\"evenodd\" fill-opacity=\"1\" /><polyline clip-path=\"url(#clip102)\" style=\"stroke:#000000; stroke-linecap:butt; stroke-linejoin:round; stroke-width:2; stroke-opacity:0.1; fill:none\" points=\"\n",
       "  193.288,1353.2 2352.76,1353.2 \n",
       "  \"/>\n",
       "<polyline clip-path=\"url(#clip102)\" style=\"stroke:#000000; stroke-linecap:butt; stroke-linejoin:round; stroke-width:2; stroke-opacity:0.1; fill:none\" points=\"\n",
       "  193.288,1082.86 2352.76,1082.86 \n",
       "  \"/>\n",
       "<polyline clip-path=\"url(#clip102)\" style=\"stroke:#000000; stroke-linecap:butt; stroke-linejoin:round; stroke-width:2; stroke-opacity:0.1; fill:none\" points=\"\n",
       "  193.288,812.517 2352.76,812.517 \n",
       "  \"/>\n",
       "<polyline clip-path=\"url(#clip102)\" style=\"stroke:#000000; stroke-linecap:butt; stroke-linejoin:round; stroke-width:2; stroke-opacity:0.1; fill:none\" points=\"\n",
       "  193.288,542.174 2352.76,542.174 \n",
       "  \"/>\n",
       "<polyline clip-path=\"url(#clip102)\" style=\"stroke:#000000; stroke-linecap:butt; stroke-linejoin:round; stroke-width:2; stroke-opacity:0.1; fill:none\" points=\"\n",
       "  193.288,271.83 2352.76,271.83 \n",
       "  \"/>\n",
       "<polyline clip-path=\"url(#clip100)\" style=\"stroke:#000000; stroke-linecap:butt; stroke-linejoin:round; stroke-width:4; stroke-opacity:1; fill:none\" points=\"\n",
       "  193.288,1486.45 193.288,47.2441 \n",
       "  \"/>\n",
       "<polyline clip-path=\"url(#clip100)\" style=\"stroke:#000000; stroke-linecap:butt; stroke-linejoin:round; stroke-width:4; stroke-opacity:1; fill:none\" points=\"\n",
       "  193.288,1353.2 219.201,1353.2 \n",
       "  \"/>\n",
       "<polyline clip-path=\"url(#clip100)\" style=\"stroke:#000000; stroke-linecap:butt; stroke-linejoin:round; stroke-width:4; stroke-opacity:1; fill:none\" points=\"\n",
       "  193.288,1082.86 219.201,1082.86 \n",
       "  \"/>\n",
       "<polyline clip-path=\"url(#clip100)\" style=\"stroke:#000000; stroke-linecap:butt; stroke-linejoin:round; stroke-width:4; stroke-opacity:1; fill:none\" points=\"\n",
       "  193.288,812.517 219.201,812.517 \n",
       "  \"/>\n",
       "<polyline clip-path=\"url(#clip100)\" style=\"stroke:#000000; stroke-linecap:butt; stroke-linejoin:round; stroke-width:4; stroke-opacity:1; fill:none\" points=\"\n",
       "  193.288,542.174 219.201,542.174 \n",
       "  \"/>\n",
       "<polyline clip-path=\"url(#clip100)\" style=\"stroke:#000000; stroke-linecap:butt; stroke-linejoin:round; stroke-width:4; stroke-opacity:1; fill:none\" points=\"\n",
       "  193.288,271.83 219.201,271.83 \n",
       "  \"/>\n",
       "<path clip-path=\"url(#clip100)\" d=\"M50.9921 1353.66 L80.6679 1353.66 L80.6679 1357.59 L50.9921 1357.59 L50.9921 1353.66 Z\" fill=\"#000000\" fill-rule=\"evenodd\" fill-opacity=\"1\" /><path clip-path=\"url(#clip100)\" d=\"M100.76 1339 Q97.1493 1339 95.3206 1342.57 Q93.515 1346.11 93.515 1353.24 Q93.515 1360.35 95.3206 1363.91 Q97.1493 1367.45 100.76 1367.45 Q104.395 1367.45 106.2 1363.91 Q108.029 1360.35 108.029 1353.24 Q108.029 1346.11 106.2 1342.57 Q104.395 1339 100.76 1339 M100.76 1335.3 Q106.571 1335.3 109.626 1339.91 Q112.705 1344.49 112.705 1353.24 Q112.705 1361.97 109.626 1366.57 Q106.571 1371.16 100.76 1371.16 Q94.9502 1371.16 91.8715 1366.57 Q88.816 1361.97 88.816 1353.24 Q88.816 1344.49 91.8715 1339.91 Q94.9502 1335.3 100.76 1335.3 Z\" fill=\"#000000\" fill-rule=\"evenodd\" fill-opacity=\"1\" /><path clip-path=\"url(#clip100)\" d=\"M120.922 1364.6 L125.807 1364.6 L125.807 1370.48 L120.922 1370.48 L120.922 1364.6 Z\" fill=\"#000000\" fill-rule=\"evenodd\" fill-opacity=\"1\" /><path clip-path=\"url(#clip100)\" d=\"M150.158 1351.85 Q153.515 1352.57 155.39 1354.84 Q157.288 1357.1 157.288 1360.44 Q157.288 1365.55 153.769 1368.35 Q150.251 1371.16 143.769 1371.16 Q141.593 1371.16 139.279 1370.72 Q136.987 1370.3 134.533 1369.44 L134.533 1364.93 Q136.478 1366.06 138.793 1366.64 Q141.107 1367.22 143.631 1367.22 Q148.029 1367.22 150.32 1365.48 Q152.635 1363.75 152.635 1360.44 Q152.635 1357.38 150.482 1355.67 Q148.353 1353.93 144.533 1353.93 L140.506 1353.93 L140.506 1350.09 L144.718 1350.09 Q148.168 1350.09 149.996 1348.73 Q151.825 1347.34 151.825 1344.74 Q151.825 1342.08 149.927 1340.67 Q148.052 1339.23 144.533 1339.23 Q142.612 1339.23 140.413 1339.65 Q138.214 1340.07 135.575 1340.95 L135.575 1336.78 Q138.237 1336.04 140.552 1335.67 Q142.89 1335.3 144.95 1335.3 Q150.274 1335.3 153.376 1337.73 Q156.478 1340.14 156.478 1344.26 Q156.478 1347.13 154.834 1349.12 Q153.191 1351.09 150.158 1351.85 Z\" fill=\"#000000\" fill-rule=\"evenodd\" fill-opacity=\"1\" /><path clip-path=\"url(#clip100)\" d=\"M100.112 1068.66 Q96.5011 1068.66 94.6724 1072.22 Q92.8669 1075.77 92.8669 1082.9 Q92.8669 1090 94.6724 1093.57 Q96.5011 1097.11 100.112 1097.11 Q103.746 1097.11 105.552 1093.57 Q107.381 1090 107.381 1082.9 Q107.381 1075.77 105.552 1072.22 Q103.746 1068.66 100.112 1068.66 M100.112 1064.96 Q105.922 1064.96 108.978 1069.56 Q112.057 1074.15 112.057 1082.9 Q112.057 1091.62 108.978 1096.23 Q105.922 1100.81 100.112 1100.81 Q94.3021 1100.81 91.2234 1096.23 Q88.1679 1091.62 88.1679 1082.9 Q88.1679 1074.15 91.2234 1069.56 Q94.3021 1064.96 100.112 1064.96 Z\" fill=\"#000000\" fill-rule=\"evenodd\" fill-opacity=\"1\" /><path clip-path=\"url(#clip100)\" d=\"M120.274 1094.26 L125.158 1094.26 L125.158 1100.14 L120.274 1100.14 L120.274 1094.26 Z\" fill=\"#000000\" fill-rule=\"evenodd\" fill-opacity=\"1\" /><path clip-path=\"url(#clip100)\" d=\"M145.343 1068.66 Q141.732 1068.66 139.904 1072.22 Q138.098 1075.77 138.098 1082.9 Q138.098 1090 139.904 1093.57 Q141.732 1097.11 145.343 1097.11 Q148.978 1097.11 150.783 1093.57 Q152.612 1090 152.612 1082.9 Q152.612 1075.77 150.783 1072.22 Q148.978 1068.66 145.343 1068.66 M145.343 1064.96 Q151.154 1064.96 154.209 1069.56 Q157.288 1074.15 157.288 1082.9 Q157.288 1091.62 154.209 1096.23 Q151.154 1100.81 145.343 1100.81 Q139.533 1100.81 136.455 1096.23 Q133.399 1091.62 133.399 1082.9 Q133.399 1074.15 136.455 1069.56 Q139.533 1064.96 145.343 1064.96 Z\" fill=\"#000000\" fill-rule=\"evenodd\" fill-opacity=\"1\" /><path clip-path=\"url(#clip100)\" d=\"M100.76 798.316 Q97.1493 798.316 95.3206 801.881 Q93.515 805.422 93.515 812.552 Q93.515 819.658 95.3206 823.223 Q97.1493 826.765 100.76 826.765 Q104.395 826.765 106.2 823.223 Q108.029 819.658 108.029 812.552 Q108.029 805.422 106.2 801.881 Q104.395 798.316 100.76 798.316 M100.76 794.612 Q106.571 794.612 109.626 799.219 Q112.705 803.802 112.705 812.552 Q112.705 821.279 109.626 825.885 Q106.571 830.468 100.76 830.468 Q94.9502 830.468 91.8715 825.885 Q88.816 821.279 88.816 812.552 Q88.816 803.802 91.8715 799.219 Q94.9502 794.612 100.76 794.612 Z\" fill=\"#000000\" fill-rule=\"evenodd\" fill-opacity=\"1\" /><path clip-path=\"url(#clip100)\" d=\"M120.922 823.918 L125.807 823.918 L125.807 829.797 L120.922 829.797 L120.922 823.918 Z\" fill=\"#000000\" fill-rule=\"evenodd\" fill-opacity=\"1\" /><path clip-path=\"url(#clip100)\" d=\"M150.158 811.163 Q153.515 811.881 155.39 814.149 Q157.288 816.418 157.288 819.751 Q157.288 824.867 153.769 827.668 Q150.251 830.468 143.769 830.468 Q141.593 830.468 139.279 830.029 Q136.987 829.612 134.533 828.756 L134.533 824.242 Q136.478 825.376 138.793 825.955 Q141.107 826.533 143.631 826.533 Q148.029 826.533 150.32 824.797 Q152.635 823.061 152.635 819.751 Q152.635 816.695 150.482 814.982 Q148.353 813.246 144.533 813.246 L140.506 813.246 L140.506 809.404 L144.718 809.404 Q148.168 809.404 149.996 808.038 Q151.825 806.649 151.825 804.057 Q151.825 801.395 149.927 799.983 Q148.052 798.547 144.533 798.547 Q142.612 798.547 140.413 798.964 Q138.214 799.381 135.575 800.26 L135.575 796.094 Q138.237 795.353 140.552 794.983 Q142.89 794.612 144.95 794.612 Q150.274 794.612 153.376 797.043 Q156.478 799.45 156.478 803.57 Q156.478 806.441 154.834 808.432 Q153.191 810.399 150.158 811.163 Z\" fill=\"#000000\" fill-rule=\"evenodd\" fill-opacity=\"1\" /><path clip-path=\"url(#clip100)\" d=\"M99.9502 527.972 Q96.3391 527.972 94.5104 531.537 Q92.7049 535.079 92.7049 542.208 Q92.7049 549.315 94.5104 552.88 Q96.3391 556.421 99.9502 556.421 Q103.584 556.421 105.39 552.88 Q107.219 549.315 107.219 542.208 Q107.219 535.079 105.39 531.537 Q103.584 527.972 99.9502 527.972 M99.9502 524.269 Q105.76 524.269 108.816 528.875 Q111.895 533.458 111.895 542.208 Q111.895 550.935 108.816 555.542 Q105.76 560.125 99.9502 560.125 Q94.14 560.125 91.0614 555.542 Q88.0058 550.935 88.0058 542.208 Q88.0058 533.458 91.0614 528.875 Q94.14 524.269 99.9502 524.269 Z\" fill=\"#000000\" fill-rule=\"evenodd\" fill-opacity=\"1\" /><path clip-path=\"url(#clip100)\" d=\"M120.112 553.574 L124.996 553.574 L124.996 559.454 L120.112 559.454 L120.112 553.574 Z\" fill=\"#000000\" fill-rule=\"evenodd\" fill-opacity=\"1\" /><path clip-path=\"url(#clip100)\" d=\"M145.76 540.31 Q142.612 540.31 140.76 542.463 Q138.931 544.616 138.931 548.366 Q138.931 552.093 140.76 554.268 Q142.612 556.421 145.76 556.421 Q148.908 556.421 150.737 554.268 Q152.589 552.093 152.589 548.366 Q152.589 544.616 150.737 542.463 Q148.908 540.31 145.76 540.31 M155.042 525.658 L155.042 529.917 Q153.283 529.083 151.478 528.644 Q149.695 528.204 147.936 528.204 Q143.306 528.204 140.853 531.329 Q138.422 534.454 138.075 540.773 Q139.441 538.759 141.501 537.695 Q143.561 536.607 146.038 536.607 Q151.246 536.607 154.255 539.778 Q157.288 542.926 157.288 548.366 Q157.288 553.69 154.14 556.907 Q150.992 560.125 145.76 560.125 Q139.765 560.125 136.594 555.542 Q133.422 550.935 133.422 542.208 Q133.422 534.014 137.311 529.153 Q141.2 524.269 147.751 524.269 Q149.51 524.269 151.293 524.616 Q153.098 524.963 155.042 525.658 Z\" fill=\"#000000\" fill-rule=\"evenodd\" fill-opacity=\"1\" /><path clip-path=\"url(#clip100)\" d=\"M100.297 257.629 Q96.6863 257.629 94.8576 261.194 Q93.0521 264.735 93.0521 271.865 Q93.0521 278.971 94.8576 282.536 Q96.6863 286.078 100.297 286.078 Q103.932 286.078 105.737 282.536 Q107.566 278.971 107.566 271.865 Q107.566 264.735 105.737 261.194 Q103.932 257.629 100.297 257.629 M100.297 253.925 Q106.108 253.925 109.163 258.532 Q112.242 263.115 112.242 271.865 Q112.242 280.592 109.163 285.198 Q106.108 289.781 100.297 289.781 Q94.4873 289.781 91.4086 285.198 Q88.353 280.592 88.353 271.865 Q88.353 263.115 91.4086 258.532 Q94.4873 253.925 100.297 253.925 Z\" fill=\"#000000\" fill-rule=\"evenodd\" fill-opacity=\"1\" /><path clip-path=\"url(#clip100)\" d=\"M120.459 283.23 L125.344 283.23 L125.344 289.11 L120.459 289.11 L120.459 283.23 Z\" fill=\"#000000\" fill-rule=\"evenodd\" fill-opacity=\"1\" /><path clip-path=\"url(#clip100)\" d=\"M135.668 288.392 L135.668 284.133 Q137.427 284.967 139.232 285.406 Q141.038 285.846 142.774 285.846 Q147.404 285.846 149.834 282.744 Q152.288 279.619 152.635 273.277 Q151.293 275.268 149.232 276.332 Q147.172 277.397 144.672 277.397 Q139.487 277.397 136.455 274.272 Q133.445 271.124 133.445 265.684 Q133.445 260.36 136.594 257.143 Q139.742 253.925 144.973 253.925 Q150.968 253.925 154.117 258.532 Q157.288 263.115 157.288 271.865 Q157.288 280.036 153.399 284.92 Q149.533 289.781 142.982 289.781 Q141.223 289.781 139.418 289.434 Q137.612 289.087 135.668 288.392 M144.973 273.74 Q148.121 273.74 149.95 271.587 Q151.802 269.434 151.802 265.684 Q151.802 261.957 149.95 259.805 Q148.121 257.629 144.973 257.629 Q141.825 257.629 139.973 259.805 Q138.144 261.957 138.144 265.684 Q138.144 269.434 139.973 271.587 Q141.825 273.74 144.973 273.74 Z\" fill=\"#000000\" fill-rule=\"evenodd\" fill-opacity=\"1\" /><polyline clip-path=\"url(#clip102)\" style=\"stroke:#009af9; stroke-linecap:butt; stroke-linejoin:round; stroke-width:4; stroke-opacity:1; fill:none\" points=\"\n",
       "  254.405,383.736 295.15,1377.03 335.894,1444.23 376.639,1151.54 417.384,916.827 458.128,540.114 498.873,334.836 539.618,219.85 580.362,154.025 621.107,115.996 \n",
       "  661.852,95.4325 702.596,87.9763 743.341,89.7908 784.086,98.3987 824.83,112.44 865.575,130.531 906.32,152.135 947.064,176.527 987.809,203.599 1028.55,232.875 \n",
       "  1069.3,264.391 1110.04,298.153 1150.79,334.305 1191.53,373.057 1232.28,414.833 1273.02,459.168 1313.77,512.899 1354.51,551.931 1395.26,644.388 1436,631.836 \n",
       "  1476.75,725.951 1517.49,824.863 1558.23,840.209 1598.98,905.331 1639.72,1058.09 1680.47,1015.03 1721.21,1013.67 1761.96,1046.17 1802.7,1103.71 1843.45,1242.18 \n",
       "  1884.19,1445.72 1924.94,1235.45 1965.68,1262.49 2006.43,1189.32 2047.17,1176.31 2087.92,1180.81 2128.66,1197.92 2169.4,1229.66 2210.15,1288.41 2250.89,1359.95 \n",
       "  2291.64,1414.44 \n",
       "  \"/>\n",
       "<circle clip-path=\"url(#clip102)\" cx=\"254.405\" cy=\"383.736\" r=\"10\" fill=\"#009af9\" fill-rule=\"evenodd\" fill-opacity=\"1\" stroke=\"#000000\" stroke-opacity=\"1\" stroke-width=\"3.2\"/>\n",
       "<circle clip-path=\"url(#clip102)\" cx=\"295.15\" cy=\"1377.03\" r=\"10\" fill=\"#009af9\" fill-rule=\"evenodd\" fill-opacity=\"1\" stroke=\"#000000\" stroke-opacity=\"1\" stroke-width=\"3.2\"/>\n",
       "<circle clip-path=\"url(#clip102)\" cx=\"335.894\" cy=\"1444.23\" r=\"10\" fill=\"#009af9\" fill-rule=\"evenodd\" fill-opacity=\"1\" stroke=\"#000000\" stroke-opacity=\"1\" stroke-width=\"3.2\"/>\n",
       "<circle clip-path=\"url(#clip102)\" cx=\"376.639\" cy=\"1151.54\" r=\"10\" fill=\"#009af9\" fill-rule=\"evenodd\" fill-opacity=\"1\" stroke=\"#000000\" stroke-opacity=\"1\" stroke-width=\"3.2\"/>\n",
       "<circle clip-path=\"url(#clip102)\" cx=\"417.384\" cy=\"916.827\" r=\"10\" fill=\"#009af9\" fill-rule=\"evenodd\" fill-opacity=\"1\" stroke=\"#000000\" stroke-opacity=\"1\" stroke-width=\"3.2\"/>\n",
       "<circle clip-path=\"url(#clip102)\" cx=\"458.128\" cy=\"540.114\" r=\"10\" fill=\"#009af9\" fill-rule=\"evenodd\" fill-opacity=\"1\" stroke=\"#000000\" stroke-opacity=\"1\" stroke-width=\"3.2\"/>\n",
       "<circle clip-path=\"url(#clip102)\" cx=\"498.873\" cy=\"334.836\" r=\"10\" fill=\"#009af9\" fill-rule=\"evenodd\" fill-opacity=\"1\" stroke=\"#000000\" stroke-opacity=\"1\" stroke-width=\"3.2\"/>\n",
       "<circle clip-path=\"url(#clip102)\" cx=\"539.618\" cy=\"219.85\" r=\"10\" fill=\"#009af9\" fill-rule=\"evenodd\" fill-opacity=\"1\" stroke=\"#000000\" stroke-opacity=\"1\" stroke-width=\"3.2\"/>\n",
       "<circle clip-path=\"url(#clip102)\" cx=\"580.362\" cy=\"154.025\" r=\"10\" fill=\"#009af9\" fill-rule=\"evenodd\" fill-opacity=\"1\" stroke=\"#000000\" stroke-opacity=\"1\" stroke-width=\"3.2\"/>\n",
       "<circle clip-path=\"url(#clip102)\" cx=\"621.107\" cy=\"115.996\" r=\"10\" fill=\"#009af9\" fill-rule=\"evenodd\" fill-opacity=\"1\" stroke=\"#000000\" stroke-opacity=\"1\" stroke-width=\"3.2\"/>\n",
       "<circle clip-path=\"url(#clip102)\" cx=\"661.852\" cy=\"95.4325\" r=\"10\" fill=\"#009af9\" fill-rule=\"evenodd\" fill-opacity=\"1\" stroke=\"#000000\" stroke-opacity=\"1\" stroke-width=\"3.2\"/>\n",
       "<circle clip-path=\"url(#clip102)\" cx=\"702.596\" cy=\"87.9763\" r=\"10\" fill=\"#009af9\" fill-rule=\"evenodd\" fill-opacity=\"1\" stroke=\"#000000\" stroke-opacity=\"1\" stroke-width=\"3.2\"/>\n",
       "<circle clip-path=\"url(#clip102)\" cx=\"743.341\" cy=\"89.7908\" r=\"10\" fill=\"#009af9\" fill-rule=\"evenodd\" fill-opacity=\"1\" stroke=\"#000000\" stroke-opacity=\"1\" stroke-width=\"3.2\"/>\n",
       "<circle clip-path=\"url(#clip102)\" cx=\"784.086\" cy=\"98.3987\" r=\"10\" fill=\"#009af9\" fill-rule=\"evenodd\" fill-opacity=\"1\" stroke=\"#000000\" stroke-opacity=\"1\" stroke-width=\"3.2\"/>\n",
       "<circle clip-path=\"url(#clip102)\" cx=\"824.83\" cy=\"112.44\" r=\"10\" fill=\"#009af9\" fill-rule=\"evenodd\" fill-opacity=\"1\" stroke=\"#000000\" stroke-opacity=\"1\" stroke-width=\"3.2\"/>\n",
       "<circle clip-path=\"url(#clip102)\" cx=\"865.575\" cy=\"130.531\" r=\"10\" fill=\"#009af9\" fill-rule=\"evenodd\" fill-opacity=\"1\" stroke=\"#000000\" stroke-opacity=\"1\" stroke-width=\"3.2\"/>\n",
       "<circle clip-path=\"url(#clip102)\" cx=\"906.32\" cy=\"152.135\" r=\"10\" fill=\"#009af9\" fill-rule=\"evenodd\" fill-opacity=\"1\" stroke=\"#000000\" stroke-opacity=\"1\" stroke-width=\"3.2\"/>\n",
       "<circle clip-path=\"url(#clip102)\" cx=\"947.064\" cy=\"176.527\" r=\"10\" fill=\"#009af9\" fill-rule=\"evenodd\" fill-opacity=\"1\" stroke=\"#000000\" stroke-opacity=\"1\" stroke-width=\"3.2\"/>\n",
       "<circle clip-path=\"url(#clip102)\" cx=\"987.809\" cy=\"203.599\" r=\"10\" fill=\"#009af9\" fill-rule=\"evenodd\" fill-opacity=\"1\" stroke=\"#000000\" stroke-opacity=\"1\" stroke-width=\"3.2\"/>\n",
       "<circle clip-path=\"url(#clip102)\" cx=\"1028.55\" cy=\"232.875\" r=\"10\" fill=\"#009af9\" fill-rule=\"evenodd\" fill-opacity=\"1\" stroke=\"#000000\" stroke-opacity=\"1\" stroke-width=\"3.2\"/>\n",
       "<circle clip-path=\"url(#clip102)\" cx=\"1069.3\" cy=\"264.391\" r=\"10\" fill=\"#009af9\" fill-rule=\"evenodd\" fill-opacity=\"1\" stroke=\"#000000\" stroke-opacity=\"1\" stroke-width=\"3.2\"/>\n",
       "<circle clip-path=\"url(#clip102)\" cx=\"1110.04\" cy=\"298.153\" r=\"10\" fill=\"#009af9\" fill-rule=\"evenodd\" fill-opacity=\"1\" stroke=\"#000000\" stroke-opacity=\"1\" stroke-width=\"3.2\"/>\n",
       "<circle clip-path=\"url(#clip102)\" cx=\"1150.79\" cy=\"334.305\" r=\"10\" fill=\"#009af9\" fill-rule=\"evenodd\" fill-opacity=\"1\" stroke=\"#000000\" stroke-opacity=\"1\" stroke-width=\"3.2\"/>\n",
       "<circle clip-path=\"url(#clip102)\" cx=\"1191.53\" cy=\"373.057\" r=\"10\" fill=\"#009af9\" fill-rule=\"evenodd\" fill-opacity=\"1\" stroke=\"#000000\" stroke-opacity=\"1\" stroke-width=\"3.2\"/>\n",
       "<circle clip-path=\"url(#clip102)\" cx=\"1232.28\" cy=\"414.833\" r=\"10\" fill=\"#009af9\" fill-rule=\"evenodd\" fill-opacity=\"1\" stroke=\"#000000\" stroke-opacity=\"1\" stroke-width=\"3.2\"/>\n",
       "<circle clip-path=\"url(#clip102)\" cx=\"1273.02\" cy=\"459.168\" r=\"10\" fill=\"#009af9\" fill-rule=\"evenodd\" fill-opacity=\"1\" stroke=\"#000000\" stroke-opacity=\"1\" stroke-width=\"3.2\"/>\n",
       "<circle clip-path=\"url(#clip102)\" cx=\"1313.77\" cy=\"512.899\" r=\"10\" fill=\"#009af9\" fill-rule=\"evenodd\" fill-opacity=\"1\" stroke=\"#000000\" stroke-opacity=\"1\" stroke-width=\"3.2\"/>\n",
       "<circle clip-path=\"url(#clip102)\" cx=\"1354.51\" cy=\"551.931\" r=\"10\" fill=\"#009af9\" fill-rule=\"evenodd\" fill-opacity=\"1\" stroke=\"#000000\" stroke-opacity=\"1\" stroke-width=\"3.2\"/>\n",
       "<circle clip-path=\"url(#clip102)\" cx=\"1395.26\" cy=\"644.388\" r=\"10\" fill=\"#009af9\" fill-rule=\"evenodd\" fill-opacity=\"1\" stroke=\"#000000\" stroke-opacity=\"1\" stroke-width=\"3.2\"/>\n",
       "<circle clip-path=\"url(#clip102)\" cx=\"1436\" cy=\"631.836\" r=\"10\" fill=\"#009af9\" fill-rule=\"evenodd\" fill-opacity=\"1\" stroke=\"#000000\" stroke-opacity=\"1\" stroke-width=\"3.2\"/>\n",
       "<circle clip-path=\"url(#clip102)\" cx=\"1476.75\" cy=\"725.951\" r=\"10\" fill=\"#009af9\" fill-rule=\"evenodd\" fill-opacity=\"1\" stroke=\"#000000\" stroke-opacity=\"1\" stroke-width=\"3.2\"/>\n",
       "<circle clip-path=\"url(#clip102)\" cx=\"1517.49\" cy=\"824.863\" r=\"10\" fill=\"#009af9\" fill-rule=\"evenodd\" fill-opacity=\"1\" stroke=\"#000000\" stroke-opacity=\"1\" stroke-width=\"3.2\"/>\n",
       "<circle clip-path=\"url(#clip102)\" cx=\"1558.23\" cy=\"840.209\" r=\"10\" fill=\"#009af9\" fill-rule=\"evenodd\" fill-opacity=\"1\" stroke=\"#000000\" stroke-opacity=\"1\" stroke-width=\"3.2\"/>\n",
       "<circle clip-path=\"url(#clip102)\" cx=\"1598.98\" cy=\"905.331\" r=\"10\" fill=\"#009af9\" fill-rule=\"evenodd\" fill-opacity=\"1\" stroke=\"#000000\" stroke-opacity=\"1\" stroke-width=\"3.2\"/>\n",
       "<circle clip-path=\"url(#clip102)\" cx=\"1639.72\" cy=\"1058.09\" r=\"10\" fill=\"#009af9\" fill-rule=\"evenodd\" fill-opacity=\"1\" stroke=\"#000000\" stroke-opacity=\"1\" stroke-width=\"3.2\"/>\n",
       "<circle clip-path=\"url(#clip102)\" cx=\"1680.47\" cy=\"1015.03\" r=\"10\" fill=\"#009af9\" fill-rule=\"evenodd\" fill-opacity=\"1\" stroke=\"#000000\" stroke-opacity=\"1\" stroke-width=\"3.2\"/>\n",
       "<circle clip-path=\"url(#clip102)\" cx=\"1721.21\" cy=\"1013.67\" r=\"10\" fill=\"#009af9\" fill-rule=\"evenodd\" fill-opacity=\"1\" stroke=\"#000000\" stroke-opacity=\"1\" stroke-width=\"3.2\"/>\n",
       "<circle clip-path=\"url(#clip102)\" cx=\"1761.96\" cy=\"1046.17\" r=\"10\" fill=\"#009af9\" fill-rule=\"evenodd\" fill-opacity=\"1\" stroke=\"#000000\" stroke-opacity=\"1\" stroke-width=\"3.2\"/>\n",
       "<circle clip-path=\"url(#clip102)\" cx=\"1802.7\" cy=\"1103.71\" r=\"10\" fill=\"#009af9\" fill-rule=\"evenodd\" fill-opacity=\"1\" stroke=\"#000000\" stroke-opacity=\"1\" stroke-width=\"3.2\"/>\n",
       "<circle clip-path=\"url(#clip102)\" cx=\"1843.45\" cy=\"1242.18\" r=\"10\" fill=\"#009af9\" fill-rule=\"evenodd\" fill-opacity=\"1\" stroke=\"#000000\" stroke-opacity=\"1\" stroke-width=\"3.2\"/>\n",
       "<circle clip-path=\"url(#clip102)\" cx=\"1884.19\" cy=\"1445.72\" r=\"10\" fill=\"#009af9\" fill-rule=\"evenodd\" fill-opacity=\"1\" stroke=\"#000000\" stroke-opacity=\"1\" stroke-width=\"3.2\"/>\n",
       "<circle clip-path=\"url(#clip102)\" cx=\"1924.94\" cy=\"1235.45\" r=\"10\" fill=\"#009af9\" fill-rule=\"evenodd\" fill-opacity=\"1\" stroke=\"#000000\" stroke-opacity=\"1\" stroke-width=\"3.2\"/>\n",
       "<circle clip-path=\"url(#clip102)\" cx=\"1965.68\" cy=\"1262.49\" r=\"10\" fill=\"#009af9\" fill-rule=\"evenodd\" fill-opacity=\"1\" stroke=\"#000000\" stroke-opacity=\"1\" stroke-width=\"3.2\"/>\n",
       "<circle clip-path=\"url(#clip102)\" cx=\"2006.43\" cy=\"1189.32\" r=\"10\" fill=\"#009af9\" fill-rule=\"evenodd\" fill-opacity=\"1\" stroke=\"#000000\" stroke-opacity=\"1\" stroke-width=\"3.2\"/>\n",
       "<circle clip-path=\"url(#clip102)\" cx=\"2047.17\" cy=\"1176.31\" r=\"10\" fill=\"#009af9\" fill-rule=\"evenodd\" fill-opacity=\"1\" stroke=\"#000000\" stroke-opacity=\"1\" stroke-width=\"3.2\"/>\n",
       "<circle clip-path=\"url(#clip102)\" cx=\"2087.92\" cy=\"1180.81\" r=\"10\" fill=\"#009af9\" fill-rule=\"evenodd\" fill-opacity=\"1\" stroke=\"#000000\" stroke-opacity=\"1\" stroke-width=\"3.2\"/>\n",
       "<circle clip-path=\"url(#clip102)\" cx=\"2128.66\" cy=\"1197.92\" r=\"10\" fill=\"#009af9\" fill-rule=\"evenodd\" fill-opacity=\"1\" stroke=\"#000000\" stroke-opacity=\"1\" stroke-width=\"3.2\"/>\n",
       "<circle clip-path=\"url(#clip102)\" cx=\"2169.4\" cy=\"1229.66\" r=\"10\" fill=\"#009af9\" fill-rule=\"evenodd\" fill-opacity=\"1\" stroke=\"#000000\" stroke-opacity=\"1\" stroke-width=\"3.2\"/>\n",
       "<circle clip-path=\"url(#clip102)\" cx=\"2210.15\" cy=\"1288.41\" r=\"10\" fill=\"#009af9\" fill-rule=\"evenodd\" fill-opacity=\"1\" stroke=\"#000000\" stroke-opacity=\"1\" stroke-width=\"3.2\"/>\n",
       "<circle clip-path=\"url(#clip102)\" cx=\"2250.89\" cy=\"1359.95\" r=\"10\" fill=\"#009af9\" fill-rule=\"evenodd\" fill-opacity=\"1\" stroke=\"#000000\" stroke-opacity=\"1\" stroke-width=\"3.2\"/>\n",
       "<circle clip-path=\"url(#clip102)\" cx=\"2291.64\" cy=\"1414.44\" r=\"10\" fill=\"#009af9\" fill-rule=\"evenodd\" fill-opacity=\"1\" stroke=\"#000000\" stroke-opacity=\"1\" stroke-width=\"3.2\"/>\n",
       "<polyline clip-path=\"url(#clip102)\" style=\"stroke:#e26f46; stroke-linecap:butt; stroke-linejoin:round; stroke-width:4; stroke-opacity:1; fill:none\" stroke-dasharray=\"16, 10\" points=\"\n",
       "  -1966.18,1082.86 4512.22,1082.86 \n",
       "  \"/>\n",
       "<path clip-path=\"url(#clip100)\" d=\"\n",
       "M1988.4 276.658 L2280.77 276.658 L2280.77 95.2176 L1988.4 95.2176  Z\n",
       "  \" fill=\"#ffffff\" fill-rule=\"evenodd\" fill-opacity=\"1\"/>\n",
       "<polyline clip-path=\"url(#clip100)\" style=\"stroke:#000000; stroke-linecap:butt; stroke-linejoin:round; stroke-width:4; stroke-opacity:1; fill:none\" points=\"\n",
       "  1988.4,276.658 2280.77,276.658 2280.77,95.2176 1988.4,95.2176 1988.4,276.658 \n",
       "  \"/>\n",
       "<polyline clip-path=\"url(#clip100)\" style=\"stroke:#009af9; stroke-linecap:butt; stroke-linejoin:round; stroke-width:4; stroke-opacity:1; fill:none\" points=\"\n",
       "  2012.4,155.698 2156.36,155.698 \n",
       "  \"/>\n",
       "<circle clip-path=\"url(#clip100)\" cx=\"2084.38\" cy=\"155.698\" r=\"23\" fill=\"#009af9\" fill-rule=\"evenodd\" fill-opacity=\"1\" stroke=\"#000000\" stroke-opacity=\"1\" stroke-width=\"6.82667\"/>\n",
       "<path clip-path=\"url(#clip100)\" d=\"M2194.2 175.385 Q2192.39 180.015 2190.68 181.427 Q2188.97 182.839 2186.1 182.839 L2182.69 182.839 L2182.69 179.274 L2185.19 179.274 Q2186.95 179.274 2187.92 178.44 Q2188.9 177.607 2190.08 174.505 L2190.84 172.561 L2180.36 147.052 L2184.87 147.052 L2192.97 167.329 L2201.07 147.052 L2205.59 147.052 L2194.2 175.385 Z\" fill=\"#000000\" fill-rule=\"evenodd\" fill-opacity=\"1\" /><path clip-path=\"url(#clip100)\" d=\"M2212.88 169.042 L2220.52 169.042 L2220.52 142.677 L2212.21 144.343 L2212.21 140.084 L2220.47 138.418 L2225.15 138.418 L2225.15 169.042 L2232.79 169.042 L2232.79 172.978 L2212.88 172.978 L2212.88 169.042 Z\" fill=\"#000000\" fill-rule=\"evenodd\" fill-opacity=\"1\" /><polyline clip-path=\"url(#clip100)\" style=\"stroke:#e26f46; stroke-linecap:butt; stroke-linejoin:round; stroke-width:4; stroke-opacity:1; fill:none\" stroke-dasharray=\"16, 10\" points=\"\n",
       "  2012.4,216.178 2156.36,216.178 \n",
       "  \"/>\n",
       "<path clip-path=\"url(#clip100)\" d=\"M2194.2 235.865 Q2192.39 240.495 2190.68 241.907 Q2188.97 243.319 2186.1 243.319 L2182.69 243.319 L2182.69 239.754 L2185.19 239.754 Q2186.95 239.754 2187.92 238.92 Q2188.9 238.087 2190.08 234.985 L2190.84 233.041 L2180.36 207.532 L2184.87 207.532 L2192.97 227.809 L2201.07 207.532 L2205.59 207.532 L2194.2 235.865 Z\" fill=\"#000000\" fill-rule=\"evenodd\" fill-opacity=\"1\" /><path clip-path=\"url(#clip100)\" d=\"M2216.1 229.522 L2232.42 229.522 L2232.42 233.458 L2210.47 233.458 L2210.47 229.522 Q2213.13 226.768 2217.72 222.138 Q2222.32 217.485 2223.5 216.143 Q2225.75 213.62 2226.63 211.884 Q2227.53 210.124 2227.53 208.435 Q2227.53 205.68 2225.59 203.944 Q2223.67 202.208 2220.56 202.208 Q2218.36 202.208 2215.91 202.972 Q2213.48 203.735 2210.7 205.286 L2210.7 200.564 Q2213.53 199.43 2215.98 198.851 Q2218.43 198.273 2220.47 198.273 Q2225.84 198.273 2229.04 200.958 Q2232.23 203.643 2232.23 208.134 Q2232.23 210.263 2231.42 212.185 Q2230.63 214.083 2228.53 216.675 Q2227.95 217.347 2224.85 220.564 Q2221.74 223.759 2216.1 229.522 Z\" fill=\"#000000\" fill-rule=\"evenodd\" fill-opacity=\"1\" /></svg>\n"
      ]
     },
     "metadata": {},
     "execution_count": 6
    }
   ],
   "cell_type": "code",
   "source": [
    "theme(:default)\n",
    "plot(η, Λ, marker=(:circle, 3))\n",
    "hline!([0], linestyle=:dash)"
   ],
   "metadata": {},
   "execution_count": 6
  },
  {
   "cell_type": "markdown",
   "source": [
    "#### References\n",
    "* Huang, L., Chen, Q., Lai, Y. C., & Pecora, L. M. (2009). Generic behavior of master-stability functions in coupled nonlinear dynamical systems. Physical Review E, 80(3), 036204."
   ],
   "metadata": {}
  },
  {
   "cell_type": "markdown",
   "source": [
    "---\n",
    "\n",
    "*This notebook was generated using [Literate.jl](https://github.com/fredrikekre/Literate.jl).*"
   ],
   "metadata": {}
  }
 ],
 "nbformat_minor": 3,
 "metadata": {
  "language_info": {
   "file_extension": ".jl",
   "mimetype": "application/julia",
   "name": "julia",
   "version": "1.6.0"
  },
  "kernelspec": {
   "name": "julia-1.6",
   "display_name": "Julia 1.6.0",
   "language": "julia"
  }
 },
 "nbformat": 4
}
